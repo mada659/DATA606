{
 "cells": [
  {
   "cell_type": "markdown",
   "metadata": {
    "id": "KSh6ywZ2Ywvw"
   },
   "source": [
    "## Markov Chains\n",
    "\n",
    "A Markov chain is a stochastic model describing a sequence of possible events in which the probability of each event depends only on the state attained in the previous event.\n",
    "\n",
    "## Def\n",
    "A Markov process is a stochastic process that satisfies the Markov property (sometimes characterized as \"memorylessness\"). In simpler terms, it is a process for which predictions can be made regarding future outcomes based solely on its present state and—most importantly—such predictions are just as good as the ones that could be made knowing the process's full history. In other words, conditional on the present state of the system, its future and past states are independent.\n",
    "\n",
    "![image](https://miro.medium.com/max/4702/1*Iz10wdtzJQ7IUaWEwdhHAw@2x.png)"
   ]
  },
  {
   "cell_type": "markdown",
   "metadata": {
    "id": "iyoPM1x2hUw9"
   },
   "source": [
    "## Stationary distribution \n",
    "\n",
    "A stationary distribution π is a (row) vector, whose entries are non-negative and sum to 1, is unchanged by the operation of transition matrix P on it and so is defined by\n",
    "\n",
    "${\\displaystyle \\pi \\mathbf {P} =\\pi .}$\n",
    "\n",
    "$\\pi$ is left eigenvector\n",
    "\n",
    "If the Markov chain is irreducible and aperiodic, then there is a unique stationary distribution π"
   ]
  },
  {
   "cell_type": "markdown",
   "metadata": {
    "id": "IBhn7hPyjJ3_"
   },
   "source": [
    "## Reversible Markov Chains\n",
    "\n",
    "A Markov process is called a reversible Markov process or reversible Markov chain if it satisfies the detailed balance equations. These equations require that the transition probability matrix, P, for the Markov process possess a stationary distribution (i.e. equilibrium probability distribution) π such that\n",
    "\n",
    "${\\displaystyle \\pi _{i}P_{ij}=\\pi _{j}P_{ji}\\,,}$, \n",
    "where Pij is the Markov transition probability from state i to state j, i.e. $P_{ji} = P(X_{t} = j | X_{t − 1 = i}$), and $\\pi_{i}$ and $\\pi_{j}$are the equilibrium probabilities of being in states i and j, respectively.\n",
    "\n",
    "The detailed balance condition is stronger than that required merely for a stationary distribution; that is, there are Markov processes with stationary distributions that do not have detailed balance\n",
    "\n",
    "## Example\n",
    "\n",
    "![image](https://upload.wikimedia.org/wikipedia/commons/thumb/2/2b/Markovkate_01.svg/440px-Markovkate_01.svg.png)\n",
    "\n",
    "[Reference](https://en.wikipedia.org/wiki/Markov_chain)"
   ]
  },
  {
   "cell_type": "code",
   "execution_count": null,
   "metadata": {
    "colab": {
     "base_uri": "https://localhost:8080/"
    },
    "id": "w2Vqmi4Wdo4_",
    "outputId": "4e162955-1212-4f33-9fa1-e5f94eb622f3"
   },
   "outputs": [
    {
     "data": {
      "text/plain": [
       "array([0.39, 0.61])"
      ]
     },
     "execution_count": 15,
     "metadata": {
      "tags": []
     },
     "output_type": "execute_result"
    }
   ],
   "source": [
    "import numpy as np\n",
    "trans_prob= [[0.3,0.7], [0.4,0.6]]\n",
    "\n",
    "init = [0.1,0.9]\n",
    "\n",
    "np.matmul(np.transpose(init), trans_prob)\n"
   ]
  },
  {
   "cell_type": "code",
   "execution_count": null,
   "metadata": {
    "colab": {
     "base_uri": "https://localhost:8080/"
    },
    "id": "guzZEjb4WUdT",
    "outputId": "4510d0a6-c506-4cbf-fe19-b486190afa2a"
   },
   "outputs": [
    {
     "data": {
      "text/plain": [
       "array([0.36363636, 0.63636364])"
      ]
     },
     "execution_count": 17,
     "metadata": {
      "tags": []
     },
     "output_type": "execute_result"
    }
   ],
   "source": [
    "x=trans_prob\n",
    "for i in range(10):\n",
    "   x= np.matmul(trans_prob,x)\n",
    "\n",
    "np.matmul(np.transpose(init), x)"
   ]
  },
  {
   "cell_type": "markdown",
   "metadata": {
    "id": "Zu1oCRrdcSTY"
   },
   "source": [
    "## Left Eigenvector\n",
    "\n",
    "A stationary distribution π is a (row) vector, whose entries are non-negative and sum to 1, is unchanged by the operation of transition matrix P on it and so is defined by\n",
    "\n",
    "${\\displaystyle \\pi \\mathbf {P} =\\pi .}$"
   ]
  },
  {
   "cell_type": "markdown",
   "metadata": {
    "id": "k_jwBiF2dw0l"
   },
   "source": [
    "## MCMC\n",
    "\n",
    "Markov chain Monte Carlo (MCMC) methods comprise a class of algorithms for sampling from a probability distribution. By constructing a Markov chain that has the desired distribution as its equilibrium distribution, one can obtain a sample of the desired distribution by recording states from the chain. The more steps are included, the more closely the distribution of the sample matches the actual desired distribution.\n",
    "\n",
    "Markov chain Monte Carlo methods create samples from a continuous random variable, with probability density proportional to a known function. These samples can be used to evaluate an integral over that variable, as its expected value or variance."
   ]
  },
  {
   "cell_type": "markdown",
   "metadata": {
    "id": "5lMA55qkej6K"
   },
   "source": [
    "## Reducing Correlation\n",
    "\n",
    "While MCMC methods were created to address multi-dimensional problems better than generic Monte Carlo algorithms, when the number of dimensions rises they too tend to suffer the curse of dimensionality: regions of higher probability tend to stretch and get lost in an increasing volume of space that contributes little to the integral. One way to address this problem could be shortening the steps of the walker, so that it doesn't continuously try to exit the highest probability region, though this way the process would be highly autocorrelated and expensive (i.e. many steps would be required for an accurate result). More sophisticated methods such as Hamiltonian Monte Carlo and the Wang and Landau algorithm use various ways of reducing this autocorrelation, while managing to keep the process in the regions that give a higher contribution to the integral. These algorithms usually rely on a more complicated theory and are harder to implement, but they usually converge faster.\n",
    "\n"
   ]
  },
  {
   "cell_type": "markdown",
   "metadata": {
    "id": "Bs9JN2T7lAxg"
   },
   "source": [
    "## Gibbs Sampling\n",
    "\n",
    "Gibbs sampling is applicable when the joint distribution is not known explicitly or is difficult to sample from directly, but the conditional distribution of each variable is known and is easy (or at least, easier) to sample from. The Gibbs sampling algorithm generates an instance from the distribution of each variable in turn, conditional on the current values of the other variables. It can be shown that the sequence of samples constitutes a Markov chain, and the stationary distribution of that Markov chain is just the sought-after joint distribution\n",
    "\n",
    "[Reference](https://en.wikipedia.org/wiki/Gibbs_sampling)\n",
    "\n",
    "![image](https://miro.medium.com/max/2332/1*B97nba5CdlRHW6jamAzvMg.png)"
   ]
  },
  {
   "cell_type": "markdown",
   "metadata": {
    "id": "p33GsYCCI21l"
   },
   "source": [
    "## IID Samples\n",
    "\n",
    "First we simulate Monte Carlo,i.e., independent and identical (IID) samples\n",
    "\n",
    "Covariance matrix  [[4, 0], [0,4]]"
   ]
  },
  {
   "cell_type": "code",
   "execution_count": null,
   "metadata": {
    "id": "4jQzMFaPE-Cr"
   },
   "outputs": [],
   "source": [
    "import numpy as np\n",
    "import matplotlib.pyplot as plt\n"
   ]
  },
  {
   "cell_type": "code",
   "execution_count": null,
   "metadata": {
    "colab": {
     "base_uri": "https://localhost:8080/",
     "height": 282
    },
    "id": "7yQE5N-aFJw4",
    "outputId": "2a4168ad-982d-4137-d276-056a8e754683"
   },
   "outputs": [
    {
     "data": {
      "text/plain": [
       "<matplotlib.collections.PathCollection at 0x7fa8ff1ed190>"
      ]
     },
     "execution_count": 4,
     "metadata": {
      "tags": []
     },
     "output_type": "execute_result"
    },
    {
     "data": {
      "image/png": "[encoded data removed]",
      "text/plain": [
       "<Figure size 432x288 with 1 Axes>"
      ]
     },
     "metadata": {
      "needs_background": "light",
      "tags": []
     },
     "output_type": "display_data"
    }
   ],
   "source": [
    "iid_samples = np.random.multivariate_normal([0,0], [[4, 0], [0,4]], 10000)\n",
    "plt.scatter(iid_samples[:,0], iid_samples[:,1], s=4)"
   ]
  },
  {
   "cell_type": "code",
   "execution_count": null,
   "metadata": {
    "colab": {
     "base_uri": "https://localhost:8080/",
     "height": 282
    },
    "id": "ELOd8jkyFtyp",
    "outputId": "de61ec22-183e-4563-9435-8dfe84c58f25"
   },
   "outputs": [
    {
     "name": "stdout",
     "output_type": "stream",
     "text": [
      "-0.015593585970206214\n"
     ]
    },
    {
     "data": {
      "image/png": "[encoded data removed]",
      "text/plain": [
       "<Figure size 432x288 with 1 Axes>"
      ]
     },
     "metadata": {
      "needs_background": "light",
      "tags": []
     },
     "output_type": "display_data"
    }
   ],
   "source": [
    "from scipy.stats import pearsonr\n",
    "plt.scatter(iid_samples[:-1,0], iid_samples[1:,0], s=4)\n",
    "print(pearsonr(iid_samples[:-1,0], iid_samples[1:,0])[0])\n"
   ]
  },
  {
   "cell_type": "markdown",
   "metadata": {
    "id": "_mvllk7-Iddn"
   },
   "source": [
    "## Curse of Dimensionality\n",
    "\n",
    "What is the length of the segment [0,1]\n",
    "What is the volume of a cube? of a sphere?\n",
    "\n",
    "The mass of the points close to the boundary.\n",
    "\n",
    "Probability P(a<=X<=b) of a continuous variable X depends on the density f(x) and the length/area/volume of X\n",
    "\n",
    "The standard normal distribution has its mode at X=0 (highest density). But the volume of X around zero is smaller as the dimension increases"
   ]
  },
  {
   "cell_type": "code",
   "execution_count": 2,
   "metadata": {
    "colab": {
     "base_uri": "https://localhost:8080/",
     "height": 283
    },
    "id": "R-BkztfcM4ZT",
    "outputId": "259986c0-386c-4e05-b7ee-d25629306265"
   },
   "outputs": [
    {
     "name": "stdout",
     "output_type": "stream",
     "text": [
      "-0.0020820590565959886\n"
     ]
    },
    {
     "data": {
      "image/png": "[encoded data removed]",
      "text/plain": [
       "<Figure size 432x288 with 1 Axes>"
      ]
     },
     "metadata": {
      "needs_background": "light"
     },
     "output_type": "display_data"
    }
   ],
   "source": [
    "import matplotlib.pyplot as plt\n",
    "import numpy as np\n",
    "z = np.random.normal(size=10000)\n",
    "print(np.mean(z))\n",
    "plt.hist(z)\n",
    "plt.show()"
   ]
  },
  {
   "cell_type": "code",
   "execution_count": 4,
   "metadata": {
    "colab": {
     "base_uri": "https://localhost:8080/",
     "height": 283
    },
    "id": "sWJZsDm-NZ39",
    "outputId": "e37aac1d-c723-4e40-f57b-9a45af48f277"
   },
   "outputs": [
    {
     "name": "stdout",
     "output_type": "stream",
     "text": [
      "1.252487086121698\n"
     ]
    },
    {
     "data": {
      "image/png": "[encoded data removed]",
      "text/plain": [
       "<Figure size 432x288 with 1 Axes>"
      ]
     },
     "metadata": {
      "needs_background": "light"
     },
     "output_type": "display_data"
    }
   ],
   "source": [
    "mean = [0, 0]\n",
    "cov = [[1, 0], [0, 1]]\n",
    "\n",
    "z = np.random.multivariate_normal(mean, cov, 10000)\n",
    "p=np.sqrt(np.sum(z**2, axis=1))\n",
    "\n",
    "print(np.mean(p))\n",
    "\n",
    "plt.hist(p)\n",
    "\n",
    "plt.show()"
   ]
  },
  {
   "cell_type": "code",
   "execution_count": 5,
   "metadata": {
    "colab": {
     "base_uri": "https://localhost:8080/",
     "height": 283
    },
    "id": "aVZJXmKKN-el",
    "outputId": "e8fa4b8c-8bd5-4e8d-991b-04323ac52792"
   },
   "outputs": [
    {
     "name": "stdout",
     "output_type": "stream",
     "text": [
      "1.585354656128484\n"
     ]
    },
    {
     "data": {
      "image/png": "[encoded data removed]",
      "text/plain": [
       "<Figure size 432x288 with 1 Axes>"
      ]
     },
     "metadata": {
      "needs_background": "light"
     },
     "output_type": "display_data"
    }
   ],
   "source": [
    "mean = [0, 0,0]\n",
    "cov = [[1, 0,0], [0, 1,0],[0,0,1]]\n",
    "\n",
    "z = np.random.multivariate_normal(mean, cov, 10000)\n",
    "p=np.sqrt(np.sum(z**2, axis=1))\n",
    "print(np.mean(p))\n",
    "plt.hist(p)\n",
    "#plt.axis('equal')\n",
    "plt.show()\n"
   ]
  },
  {
   "cell_type": "markdown",
   "metadata": {
    "id": "Fx_UUzUfFe7H"
   },
   "source": [
    "## Gibbs Sampling"
   ]
  },
  {
   "cell_type": "code",
   "execution_count": null,
   "metadata": {
    "colab": {
     "base_uri": "https://localhost:8080/",
     "height": 299
    },
    "id": "aU2Q-R5RFhLo",
    "outputId": "8f8ea3c4-288a-4b9f-d657-692acdbc5814"
   },
   "outputs": [
    {
     "name": "stdout",
     "output_type": "stream",
     "text": [
      "(0.49771239095119046, 0.0)\n"
     ]
    },
    {
     "data": {
      "text/plain": [
       "<matplotlib.collections.PathCollection at 0x7fa8eb6d5e90>"
      ]
     },
     "execution_count": 6,
     "metadata": {
      "tags": []
     },
     "output_type": "execute_result"
    },
    {
     "data": {
      "image/png": "[encoded data removed]",
      "text/plain": [
       "<Figure size 432x288 with 1 Axes>"
      ]
     },
     "metadata": {
      "needs_background": "light",
      "tags": []
     },
     "output_type": "display_data"
    }
   ],
   "source": [
    "gibbs_samples = {'x': [0], 'y': [0]}\n",
    "\n",
    "n = 10000\n",
    "\n",
    "for _ in range(n):\n",
    "    curr_y = gibbs_samples['y'][-1]\n",
    "    new_x = np.random.normal(curr_y/2, 2)\n",
    "    new_y = np.random.normal(new_x/2, 2)\n",
    "    gibbs_samples['x'].append(new_x)\n",
    "    gibbs_samples['y'].append(new_y)\n",
    "\n",
    "print(pearsonr(gibbs_samples['x'], gibbs_samples['y']))\n",
    "plt.scatter(gibbs_samples['x'], gibbs_samples['y'], s=4)\n"
   ]
  },
  {
   "cell_type": "markdown",
   "metadata": {},
   "source": [
    "Rvw: Autocorrelation \n",
    "    time series uses autocorrelation"
   ]
  },
  {
   "cell_type": "code",
   "execution_count": null,
   "metadata": {
    "colab": {
     "base_uri": "https://localhost:8080/",
     "height": 282
    },
    "id": "ZpWNkN2MFd2V",
    "outputId": "8b13b7b0-2221-431e-81e0-ef6aeb31dd6c"
   },
   "outputs": [
    {
     "name": "stdout",
     "output_type": "stream",
     "text": [
      "0.2540266288634203\n"
     ]
    },
    {
     "data": {
      "image/png": "[encoded data removed]",
      "text/plain": [
       "<Figure size 432x288 with 1 Axes>"
      ]
     },
     "metadata": {
      "needs_background": "light",
      "tags": []
     },
     "output_type": "display_data"
    }
   ],
   "source": [
    "plt.scatter(gibbs_samples['x'][:-1], gibbs_samples['x'][1:], s=4)\n",
    "print(pearsonr(gibbs_samples['x'][:-1], gibbs_samples['x'][1:])[0])"
   ]
  },
  {
   "cell_type": "markdown",
   "metadata": {
    "id": "H7kRnWltQ1Yc"
   },
   "source": [
    "## Metropolis-Hastings Algorithm\n",
    "\n",
    "Gibbs sampling is a special case of the Metropolis–Hastings algorithm\n",
    "\n",
    "The Metropolis–Hastings algorithm can draw samples from any probability distribution ${\\displaystyle P(x)}$, provided that we know a function ${\\displaystyle f(x)}$ proportional to the density of ${\\displaystyle P}$ and the values of ${\\displaystyle f(x)}$ can be calculated. The requirement that ${\\displaystyle f(x)}$ must only be proportional to the density, rather than exactly equal to it, makes the Metropolis–Hastings algorithm particularly useful, because calculating the necessary normalization factor is often extremely difficult in practice.\n",
    "\n",
    "### Existence of stationary distribution: \n",
    "there must exist a stationary distribution ${\\displaystyle \\pi (x)}$. A sufficient but not necessary condition is detailed balance: ${\\displaystyle \\pi (x)P(x'\\mid x)=\\pi (x')P(x\\mid x')}$.\n",
    "\n",
    "### Uniqueness of stationary distribution: \n",
    "the stationary distribution ${\\displaystyle \\pi (x)}$ must be unique. This is guaranteed by ergodicity of the Markov process, which requires that every state must (1) be aperiodic—the system does not return to the same state at fixed intervals; and (2) be positive recurrent—the expected number of steps for returning to the same state is finite.\n",
    "\n",
    "The Metropolis–Hastings algorithm consists in the following:\n",
    "\n",
    "1. Initialise\n",
    "Pick an initial state ${\\displaystyle x_{0}}$.\n",
    "Set ${\\displaystyle t=0}$.\n",
    "2. Iterate\n",
    "   1. Generate a random candidate state ${\\displaystyle x'}$ according to ${\\displaystyle g(x'\\mid x_{t})}$.\n",
    "   2. Calculate the acceptance probability ${\\displaystyle A(x',x_{t})=\\min \\left(1,{\\frac {P(x')}{P(x_{t})}}{\\frac {g(x_{t}\\mid x')}{g(x'\\mid x_{t})}}\\right)}$.\n",
    "   3. Accept or reject:\n",
    "      1. generate a uniform random number ${\\displaystyle u\\in [0,1]};$\n",
    "      2. if ${\\displaystyle u\\leq A(x',x_{t})}$, then accept the new state and set ${\\displaystyle x_{t+1}=x'}$;\n",
    "      3. if ${\\displaystyle u>A(x',x_{t})}$, then reject the new state, and copy the old state forward ${\\displaystyle x_{t+1}=x_{t}}$.\n",
    "  4. Increment: set ${\\displaystyle t=t+1}$."
   ]
  },
  {
   "cell_type": "code",
   "execution_count": null,
   "metadata": {
    "colab": {
     "base_uri": "https://localhost:8080/",
     "height": 367
    },
    "id": "A5-FM7gB-idI",
    "outputId": "990d1cf3-52ac-4a26-e1af-c02e42efccb1"
   },
   "outputs": [
    {
     "data": {
      "text/plain": [
       "(array([  16.,  143.,  560., 1591., 2659., 2436., 1700.,  674.,  184.,\n",
       "          38.]),\n",
       " array([-3.53863032, -2.83690026, -2.13517019, -1.43344013, -0.73171006,\n",
       "        -0.02998   ,  0.67175007,  1.37348013,  2.07521019,  2.77694026,\n",
       "         3.47867032]),\n",
       " <a list of 10 Patch objects>)"
      ]
     },
     "execution_count": 8,
     "metadata": {
      "tags": []
     },
     "output_type": "execute_result"
    },
    {
     "data": {
      "image/png": "[encoded data removed]",
      "text/plain": [
       "<Figure size 432x288 with 1 Axes>"
      ]
     },
     "metadata": {
      "needs_background": "light",
      "tags": []
     },
     "output_type": "display_data"
    }
   ],
   "source": [
    "def p_tilde(x):\n",
    "    return np.exp(-x**2/2)\n",
    "\n",
    "metropolis_samples = [0]\n",
    "\n",
    "n= 10000\n",
    "for _ in range(n):\n",
    "    proposal = np.random.normal(metropolis_samples[-1], 2)\n",
    "    \n",
    "    acceptance_prob = min(1, p_tilde(proposal) / p_tilde(metropolis_samples[-1]))\n",
    "    \n",
    "    # uniform random\n",
    "    if np.random.random() < acceptance_prob:\n",
    "        metropolis_samples.append(proposal)\n",
    "    else:\n",
    "        metropolis_samples.append(metropolis_samples[-1])\n",
    "\n",
    "plt.hist(metropolis_samples)"
   ]
  },
  {
   "cell_type": "markdown",
   "metadata": {
    "id": "jC1VRBJgJUVq"
   },
   "source": [
    "## Explore PyMC3\n",
    "\n",
    "[Reference](https://docs.pymc.io/)\n",
    "\n"
   ]
  },
  {
   "cell_type": "markdown",
   "metadata": {
    "id": "Y3emKwzAPSWa"
   },
   "source": [
    "\n",
    "A simple Bayesian linear regression model with normal priors for the parameters\n",
    "\n",
    "We are interested in predicting outcomes 𝑌 as normally-distributed observations with an expected value 𝜇 that is a linear function of two predictor variables, 𝑋1 and 𝑋2.\n",
    "\n",
    "$𝑌∼N(𝜇,𝜎^2)$\n",
    "\n",
    "$𝜇=𝛼+𝛽_1𝑋_1+𝛽_2𝑋_2$\n",
    "\n",
    "$𝛼∼N(0,100)$\n",
    "\n",
    "$𝛽_i∼N(0,100)$\n",
    "\n",
    "$𝜎∼|N(0,1)|$\n",
    " \n",
    "[Reference](https://docs.pymc.io/pymc-examples/examples/getting_started.html)"
   ]
  },
  {
   "cell_type": "code",
   "execution_count": null,
   "metadata": {
    "id": "sQx0i6NmJ3IO"
   },
   "outputs": [],
   "source": [
    "import pymc3 as pm\n",
    "import numpy as np\n",
    "\n",
    "#X, y = linear_training_data()\n",
    "# True parameter values\n",
    "alpha, sigma = 1, 1\n",
    "beta = [1, 2.5]\n",
    "\n",
    "# Size of dataset\n",
    "size = 100\n",
    "\n",
    "# Predictor variable\n",
    "X1 = np.random.randn(size)\n",
    "X2 = np.random.randn(size) * 0.2\n",
    "\n",
    "# Simulate outcome variable\n",
    "Y = alpha + beta[0] * X1 + beta[1] * X2 + np.random.randn(size) * sigma\n",
    "\n",
    "basic_model = pm.Model()\n",
    "\n",
    "with basic_model:\n",
    "\n",
    "    # Priors for unknown model parameters\n",
    "    alpha = pm.Normal(\"alpha\", mu=0, sigma=10)\n",
    "    beta = pm.Normal(\"beta\", mu=0, sigma=10, shape=2)\n",
    "    sigma = pm.HalfNormal(\"sigma\", sigma=1)\n",
    "\n",
    "    # Expected value of outcome\n",
    "    mu = alpha + beta[0] * X1 + beta[1] * X2\n",
    "\n",
    "    # Likelihood (sampling distribution) of observations\n",
    "    Y_obs = pm.Normal(\"Y_obs\", mu=mu, sigma=sigma, observed=Y)"
   ]
  },
  {
   "cell_type": "code",
   "execution_count": null,
   "metadata": {
    "colab": {
     "base_uri": "https://localhost:8080/",
     "height": 122
    },
    "id": "HEDZLLugL5WI",
    "outputId": "5f4aa64f-2d97-4f81-f69a-1005e29be947"
   },
   "outputs": [
    {
     "data": {
      "text/html": [
       "\n",
       "    <div>\n",
       "        <style>\n",
       "            /* Turns off some styling */\n",
       "            progress {\n",
       "                /* gets rid of default border in Firefox and Opera. */\n",
       "                border: none;\n",
       "                /* Needs to be in here for Safari polyfill so background images work as expected. */\n",
       "                background-size: auto;\n",
       "            }\n",
       "            .progress-bar-interrupted, .progress-bar-interrupted::-webkit-progress-bar {\n",
       "                background: #F44336;\n",
       "            }\n",
       "        </style>\n",
       "      <progress value='17' class='' max='17' style='width:300px; height:20px; vertical-align: middle;'></progress>\n",
       "      100.00% [17/17 00:00<00:00 logp = -146.42, ||grad|| = 17.7]\n",
       "    </div>\n",
       "    "
      ],
      "text/plain": [
       "<IPython.core.display.HTML object>"
      ]
     },
     "metadata": {
      "tags": []
     },
     "output_type": "display_data"
    },
    {
     "name": "stdout",
     "output_type": "stream",
     "text": [
      "\n"
     ]
    },
    {
     "data": {
      "text/plain": [
       "{'alpha': array(0.96292153),\n",
       " 'beta': array([0.93433907, 2.06671322]),\n",
       " 'sigma': array(0.89760391),\n",
       " 'sigma_log__': array(-0.10802639)}"
      ]
     },
     "execution_count": 10,
     "metadata": {
      "tags": []
     },
     "output_type": "execute_result"
    }
   ],
   "source": [
    "map_estimate = pm.find_MAP(model=basic_model)\n",
    "map_estimate"
   ]
  },
  {
   "cell_type": "code",
   "execution_count": null,
   "metadata": {
    "colab": {
     "base_uri": "https://localhost:8080/",
     "height": 142
    },
    "id": "tz727-hbMPoA",
    "outputId": "745495b4-0d6a-47cb-d802-62d7ae22b320"
   },
   "outputs": [
    {
     "name": "stderr",
     "output_type": "stream",
     "text": [
      "Auto-assigning NUTS sampler...\n",
      "Initializing NUTS using jitter+adapt_diag...\n",
      "Sequential sampling (2 chains in 1 job)\n",
      "NUTS: [sigma, beta, alpha]\n"
     ]
    },
    {
     "data": {
      "text/html": [
       "\n",
       "    <div>\n",
       "        <style>\n",
       "            /* Turns off some styling */\n",
       "            progress {\n",
       "                /* gets rid of default border in Firefox and Opera. */\n",
       "                border: none;\n",
       "                /* Needs to be in here for Safari polyfill so background images work as expected. */\n",
       "                background-size: auto;\n",
       "            }\n",
       "            .progress-bar-interrupted, .progress-bar-interrupted::-webkit-progress-bar {\n",
       "                background: #F44336;\n",
       "            }\n",
       "        </style>\n",
       "      <progress value='1500' class='' max='1500' style='width:300px; height:20px; vertical-align: middle;'></progress>\n",
       "      100.00% [1500/1500 00:01<00:00 Sampling chain 0, 0 divergences]\n",
       "    </div>\n",
       "    "
      ],
      "text/plain": [
       "<IPython.core.display.HTML object>"
      ]
     },
     "metadata": {
      "tags": []
     },
     "output_type": "display_data"
    },
    {
     "data": {
      "text/html": [
       "\n",
       "    <div>\n",
       "        <style>\n",
       "            /* Turns off some styling */\n",
       "            progress {\n",
       "                /* gets rid of default border in Firefox and Opera. */\n",
       "                border: none;\n",
       "                /* Needs to be in here for Safari polyfill so background images work as expected. */\n",
       "                background-size: auto;\n",
       "            }\n",
       "            .progress-bar-interrupted, .progress-bar-interrupted::-webkit-progress-bar {\n",
       "                background: #F44336;\n",
       "            }\n",
       "        </style>\n",
       "      <progress value='1500' class='' max='1500' style='width:300px; height:20px; vertical-align: middle;'></progress>\n",
       "      100.00% [1500/1500 00:01<00:00 Sampling chain 1, 0 divergences]\n",
       "    </div>\n",
       "    "
      ],
      "text/plain": [
       "<IPython.core.display.HTML object>"
      ]
     },
     "metadata": {
      "tags": []
     },
     "output_type": "display_data"
    },
    {
     "name": "stderr",
     "output_type": "stream",
     "text": [
      "Sampling 2 chains for 1_000 tune and 500 draw iterations (2_000 + 1_000 draws total) took 3 seconds.\n"
     ]
    }
   ],
   "source": [
    "with basic_model:\n",
    "    # draw 500 posterior samples\n",
    "    trace = pm.sample(500, return_inferencedata=False)"
   ]
  },
  {
   "cell_type": "code",
   "execution_count": null,
   "metadata": {
    "colab": {
     "base_uri": "https://localhost:8080/"
    },
    "id": "XW-LU1emMauN",
    "outputId": "65874f2c-43a9-4a84-f275-ad6204f924b4"
   },
   "outputs": [
    {
     "data": {
      "text/plain": [
       "array([0.80903348, 0.80903348, 1.10304872, 0.88173833, 1.03085423])"
      ]
     },
     "execution_count": 12,
     "metadata": {
      "tags": []
     },
     "output_type": "execute_result"
    }
   ],
   "source": [
    "trace[\"alpha\"][-5:]"
   ]
  },
  {
   "cell_type": "code",
   "execution_count": null,
   "metadata": {
    "colab": {
     "base_uri": "https://localhost:8080/",
     "height": 241
    },
    "id": "qlT8IliOok7L",
    "outputId": "67dbb358-9278-4eed-b4e3-93960ca84e18"
   },
   "outputs": [
    {
     "data": {
      "image/png": "[encoded data removed]",
      "text/plain": [
       "<Figure size 1987.2x331.2 with 4 Axes>"
      ]
     },
     "metadata": {
      "needs_background": "light",
      "tags": []
     },
     "output_type": "display_data"
    }
   ],
   "source": [
    "import arviz as az\n",
    "with basic_model:\n",
    "    az.plot_posterior(trace);"
   ]
  },
  {
   "cell_type": "code",
   "execution_count": null,
   "metadata": {
    "colab": {
     "base_uri": "https://localhost:8080/",
     "height": 173
    },
    "id": "lxcHuRNZipyc",
    "outputId": "1ff1bd47-989c-4667-b1dd-6ff305f3e465"
   },
   "outputs": [
    {
     "data": {
      "text/html": [
       "<div>\n",
       "<style scoped>\n",
       "    .dataframe tbody tr th:only-of-type {\n",
       "        vertical-align: middle;\n",
       "    }\n",
       "\n",
       "    .dataframe tbody tr th {\n",
       "        vertical-align: top;\n",
       "    }\n",
       "\n",
       "    .dataframe thead th {\n",
       "        text-align: right;\n",
       "    }\n",
       "</style>\n",
       "<table border=\"1\" class=\"dataframe\">\n",
       "  <thead>\n",
       "    <tr style=\"text-align: right;\">\n",
       "      <th></th>\n",
       "      <th>mean</th>\n",
       "      <th>sd</th>\n",
       "      <th>hdi_3%</th>\n",
       "      <th>hdi_97%</th>\n",
       "      <th>mcse_mean</th>\n",
       "      <th>mcse_sd</th>\n",
       "      <th>ess_bulk</th>\n",
       "      <th>ess_tail</th>\n",
       "      <th>r_hat</th>\n",
       "    </tr>\n",
       "  </thead>\n",
       "  <tbody>\n",
       "    <tr>\n",
       "      <th>alpha</th>\n",
       "      <td>0.96</td>\n",
       "      <td>0.09</td>\n",
       "      <td>0.79</td>\n",
       "      <td>1.15</td>\n",
       "      <td>0.00</td>\n",
       "      <td>0.00</td>\n",
       "      <td>1709.54</td>\n",
       "      <td>800.27</td>\n",
       "      <td>1.01</td>\n",
       "    </tr>\n",
       "    <tr>\n",
       "      <th>beta[0]</th>\n",
       "      <td>0.93</td>\n",
       "      <td>0.09</td>\n",
       "      <td>0.77</td>\n",
       "      <td>1.11</td>\n",
       "      <td>0.00</td>\n",
       "      <td>0.00</td>\n",
       "      <td>1296.49</td>\n",
       "      <td>739.80</td>\n",
       "      <td>1.00</td>\n",
       "    </tr>\n",
       "    <tr>\n",
       "      <th>beta[1]</th>\n",
       "      <td>2.07</td>\n",
       "      <td>0.47</td>\n",
       "      <td>1.22</td>\n",
       "      <td>2.97</td>\n",
       "      <td>0.01</td>\n",
       "      <td>0.01</td>\n",
       "      <td>1794.29</td>\n",
       "      <td>666.80</td>\n",
       "      <td>1.00</td>\n",
       "    </tr>\n",
       "    <tr>\n",
       "      <th>sigma</th>\n",
       "      <td>0.92</td>\n",
       "      <td>0.07</td>\n",
       "      <td>0.80</td>\n",
       "      <td>1.04</td>\n",
       "      <td>0.00</td>\n",
       "      <td>0.00</td>\n",
       "      <td>1505.99</td>\n",
       "      <td>705.62</td>\n",
       "      <td>1.00</td>\n",
       "    </tr>\n",
       "  </tbody>\n",
       "</table>\n",
       "</div>"
      ],
      "text/plain": [
       "         mean    sd  hdi_3%  hdi_97%  ...  mcse_sd  ess_bulk  ess_tail  r_hat\n",
       "alpha    0.96  0.09    0.79     1.15  ...     0.00   1709.54    800.27   1.01\n",
       "beta[0]  0.93  0.09    0.77     1.11  ...     0.00   1296.49    739.80   1.00\n",
       "beta[1]  2.07  0.47    1.22     2.97  ...     0.01   1794.29    666.80   1.00\n",
       "sigma    0.92  0.07    0.80     1.04  ...     0.00   1505.99    705.62   1.00\n",
       "\n",
       "[4 rows x 9 columns]"
      ]
     },
     "metadata": {
      "tags": []
     },
     "output_type": "display_data"
    }
   ],
   "source": [
    "with basic_model:\n",
    "    display(az.summary(trace, round_to=2))"
   ]
  },
  {
   "cell_type": "markdown",
   "metadata": {
    "id": "TMEtwh9Di83S"
   },
   "source": [
    "## Chi Feng's interactive demo\n",
    "\n",
    "[MCMC Interactive Gallery](https://github.com/chi-feng/mcmc-demo/blob/master/README.md)"
   ]
  },
  {
   "cell_type": "markdown",
   "metadata": {
    "id": "2N0sA4ChD0ub"
   },
   "source": [
    "## Hamiltonian Monte Carlo\n",
    "\n",
    "Hamiltonian Monte Carlo corresponds to an instance of the Metropolis–Hastings algorithm, with a Hamiltonian dynamics evolution simulated using a time-reversible and volume-preserving numerical integrator (typically the leapfrog integrator) to propose a move to a new point in the state space.\n",
    "\n",
    "### Algorithm\n",
    "Suppose the target distribution to sample is ${\\displaystyle f(\\mathbf {x} )}$ and a chain of samples ${\\displaystyle \\mathbf {X} _{0},\\mathbf {X} _{1},\\mathbf {X} _{2},\\ldots }$ is required. The Hamilton's equations are\n",
    "\n",
    "${\\displaystyle {\\frac {{\\text{d}}x_{i}}{{\\text{d}}t}}={\\frac {\\partial H}{\\partial p_{i}}}}$\n",
    "and\n",
    "\n",
    "${\\displaystyle {\\dfrac {{\\text{d}}p_{i}}{{\\text{d}}t}}=-{\\dfrac {\\partial H}{\\partial x_{i}}}}$\n",
    "where ${\\displaystyle x_{i}}$ and ${\\displaystyle p_{i}}$ are the ${\\displaystyle i}$ ith component of the position and momentum vector respectively and ${\\displaystyle H}$ is the Hamiltonian\n",
    "\n",
    "A paper on HMC:\n",
    "[Michael Betancourt: A Conceptual Introduction to\n",
    "Hamiltonian Monte Carlo](https://arxiv.org/pdf/1701.02434.pdf) \n",
    "\n",
    "Physical Analogy:\n",
    "\n",
    "![imgae](http://elevanth.org/blog/wp-content/uploads/2017/11/tumblr_n84kkuafX11tfhyyio1_500.gif)\n",
    "\n"
   ]
  },
  {
   "cell_type": "markdown",
   "metadata": {
    "id": "VTMN3MZDh3l1"
   },
   "source": [
    "## Exercise\n",
    "\n",
    "A coin was tossed 200 times. It landed head up 120 times. Use PyMC3 to get the posterior distribution of p, i.e., the probability of heads.\n",
    "\n",
    "Assume the prior is a beta distribution with parameters 𝛼=1=𝛽.\n",
    "\n",
    "Use pm.Beta and pm.Binomial\n",
    "\n",
    "Plot the posterior with ArviZ \n"
   ]
  },
  {
   "cell_type": "code",
   "execution_count": null,
   "metadata": {},
   "outputs": [],
   "source": [
    "for coin "
   ]
  },
  {
   "cell_type": "markdown",
   "metadata": {
    "id": "cndDdhXtZZ7S",
    "tags": []
   },
   "source": [
    "## Exercise\n",
    "\n",
    "Simulate a random walk on the integer line, starting at X=0, and at each step moves +1 if a fair coin lands heads up and -1 otherwise."
   ]
  },
  {
   "cell_type": "code",
   "execution_count": 30,
   "metadata": {},
   "outputs": [
    {
     "name": "stdout",
     "output_type": "stream",
     "text": [
      "[38, 42, 168, 12, 396, 184, 124, 116, 48, 34]\n",
      "98.074 474 10\n"
     ]
    }
   ],
   "source": [
    "import numpy as np\n",
    "import seaborn as sns\n",
    "\n",
    "# tot = 0\n",
    "totArr = []\n",
    "\n",
    "for i in range(1000):\n",
    "    x=0\n",
    "    tot = 0\n",
    "    while abs(x) < 10:\n",
    "        # coin = np.random.choice([1,0],size=1,p=[0.5, 0.5])\n",
    "        coin = np.random.binomial(n=1, size=1, p=0.5)\n",
    "        if coin == 1:\n",
    "            x += 1\n",
    "            tot += 1\n",
    "        else:\n",
    "            x -= 1\n",
    "            tot += 1\n",
    "    # print(tot)\n",
    "    totArr.append(tot)\n",
    "print(totArr[0:10])\n",
    "print(np.mean(totArr), np.max(totArr), np.min(totArr))"
   ]
  },
  {
   "cell_type": "code",
   "execution_count": 13,
   "metadata": {},
   "outputs": [
    {
     "data": {
      "text/plain": [
       "array([0])"
      ]
     },
     "execution_count": 13,
     "metadata": {},
     "output_type": "execute_result"
    }
   ],
   "source": [
    "coin"
   ]
  },
  {
   "cell_type": "code",
   "execution_count": null,
   "metadata": {},
   "outputs": [],
   "source": []
  }
 ],
 "metadata": {
  "colab": {
   "name": "Markov_Chain_Monte_Carlo.ipynb",
   "provenance": []
  },
  "kernelspec": {
   "display_name": "Python 3 (ipykernel)",
   "language": "python",
   "name": "python3"
  },
  "language_info": {
   "codemirror_mode": {
    "name": "ipython",
    "version": 3
   },
   "file_extension": ".py",
   "mimetype": "text/x-python",
   "name": "python",
   "nbconvert_exporter": "python",
   "pygments_lexer": "ipython3",
   "version": "3.8.10"
  }
 },
 "nbformat": 4,
 "nbformat_minor": 4
}
