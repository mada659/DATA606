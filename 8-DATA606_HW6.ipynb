{
 "cells": [
  {
   "cell_type": "code",
   "execution_count": 2,
   "metadata": {
    "id": "TsqAqjjfYelt"
   },
   "outputs": [
    {
     "name": "stderr",
     "output_type": "stream",
     "text": [
      "WARNING (theano.tensor.blas): Using NumPy C-API based implementation for BLAS functions.\n"
     ]
    }
   ],
   "source": [
    "import pandas as pd\n",
    "import numpy as np\n",
    "import pandas as pd\n",
    "import matplotlib.pyplot as plt\n",
    "import arviz as az\n",
    "from sklearn.linear_model import LogisticRegression\n",
    "import pymc3 as pm"
   ]
  },
  {
   "cell_type": "markdown",
   "metadata": {
    "id": "WjI4d1X21kUb"
   },
   "source": [
    "## The Dataset\n",
    "\n",
    "You can download the dataset from here: https://www.kaggle.com/datasets/uciml/pima-indians-diabetes-database"
   ]
  },
  {
   "cell_type": "code",
   "execution_count": 3,
   "metadata": {
    "id": "R-NmkziT12EI"
   },
   "outputs": [
    {
     "data": {
      "text/html": [
       "<div>\n",
       "<style scoped>\n",
       "    .dataframe tbody tr th:only-of-type {\n",
       "        vertical-align: middle;\n",
       "    }\n",
       "\n",
       "    .dataframe tbody tr th {\n",
       "        vertical-align: top;\n",
       "    }\n",
       "\n",
       "    .dataframe thead th {\n",
       "        text-align: right;\n",
       "    }\n",
       "</style>\n",
       "<table border=\"1\" class=\"dataframe\">\n",
       "  <thead>\n",
       "    <tr style=\"text-align: right;\">\n",
       "      <th></th>\n",
       "      <th>Pregnancies</th>\n",
       "      <th>Glucose</th>\n",
       "      <th>BloodPressure</th>\n",
       "      <th>SkinThickness</th>\n",
       "      <th>Insulin</th>\n",
       "      <th>BMI</th>\n",
       "      <th>DiabetesPedigreeFunction</th>\n",
       "      <th>Age</th>\n",
       "      <th>Outcome</th>\n",
       "    </tr>\n",
       "  </thead>\n",
       "  <tbody>\n",
       "    <tr>\n",
       "      <th>0</th>\n",
       "      <td>6</td>\n",
       "      <td>148</td>\n",
       "      <td>72</td>\n",
       "      <td>35</td>\n",
       "      <td>0</td>\n",
       "      <td>33.6</td>\n",
       "      <td>0.627</td>\n",
       "      <td>50</td>\n",
       "      <td>1</td>\n",
       "    </tr>\n",
       "    <tr>\n",
       "      <th>1</th>\n",
       "      <td>1</td>\n",
       "      <td>85</td>\n",
       "      <td>66</td>\n",
       "      <td>29</td>\n",
       "      <td>0</td>\n",
       "      <td>26.6</td>\n",
       "      <td>0.351</td>\n",
       "      <td>31</td>\n",
       "      <td>0</td>\n",
       "    </tr>\n",
       "    <tr>\n",
       "      <th>2</th>\n",
       "      <td>8</td>\n",
       "      <td>183</td>\n",
       "      <td>64</td>\n",
       "      <td>0</td>\n",
       "      <td>0</td>\n",
       "      <td>23.3</td>\n",
       "      <td>0.672</td>\n",
       "      <td>32</td>\n",
       "      <td>1</td>\n",
       "    </tr>\n",
       "    <tr>\n",
       "      <th>3</th>\n",
       "      <td>1</td>\n",
       "      <td>89</td>\n",
       "      <td>66</td>\n",
       "      <td>23</td>\n",
       "      <td>94</td>\n",
       "      <td>28.1</td>\n",
       "      <td>0.167</td>\n",
       "      <td>21</td>\n",
       "      <td>0</td>\n",
       "    </tr>\n",
       "    <tr>\n",
       "      <th>4</th>\n",
       "      <td>0</td>\n",
       "      <td>137</td>\n",
       "      <td>40</td>\n",
       "      <td>35</td>\n",
       "      <td>168</td>\n",
       "      <td>43.1</td>\n",
       "      <td>2.288</td>\n",
       "      <td>33</td>\n",
       "      <td>1</td>\n",
       "    </tr>\n",
       "  </tbody>\n",
       "</table>\n",
       "</div>"
      ],
      "text/plain": [
       "   Pregnancies  Glucose  BloodPressure  SkinThickness  Insulin   BMI  \\\n",
       "0            6      148             72             35        0  33.6   \n",
       "1            1       85             66             29        0  26.6   \n",
       "2            8      183             64              0        0  23.3   \n",
       "3            1       89             66             23       94  28.1   \n",
       "4            0      137             40             35      168  43.1   \n",
       "\n",
       "   DiabetesPedigreeFunction  Age  Outcome  \n",
       "0                     0.627   50        1  \n",
       "1                     0.351   31        0  \n",
       "2                     0.672   32        1  \n",
       "3                     0.167   21        0  \n",
       "4                     2.288   33        1  "
      ]
     },
     "execution_count": 3,
     "metadata": {},
     "output_type": "execute_result"
    }
   ],
   "source": [
    "## 1 point\n",
    "\n",
    "## ToDo: read the csv file into a dataframe and show the first 5 rows\n",
    "diab_df = pd.read_csv('diabetes.csv')\n",
    "diab_df.head(5)"
   ]
  },
  {
   "cell_type": "code",
   "execution_count": 18,
   "metadata": {
    "id": "wqiy_MHL2Cqi"
   },
   "outputs": [
    {
     "name": "stdout",
     "output_type": "stream",
     "text": [
      "[[ 1.22470297e-01  3.51109535e-02 -1.32911663e-02  7.72759373e-04\n",
      "  -1.17349597e-03  8.96683225e-02  8.67736294e-01  1.49909621e-02]]\n",
      "[-8.36624674]\n"
     ]
    }
   ],
   "source": [
    "## 3 points\n",
    "\n",
    "## Assign the Outcome variable to y and the rest to X.\n",
    "## USe LogisticRegression to fit the data and print out the intercept and the coefficients\n",
    "y = diab_df.Outcome\n",
    "X = diab_df.iloc[:,0:8]\n",
    "\n",
    "clf = LogisticRegression(random_state=0, max_iter=200).fit(X, y)\n",
    "print(clf.coef_)\n",
    "print(clf.intercept_)"
   ]
  },
  {
   "cell_type": "code",
   "execution_count": 19,
   "metadata": {
    "id": "uX08XT0yY71T"
   },
   "outputs": [
    {
     "data": {
      "text/html": [
       "\n",
       "    <div>\n",
       "        <style>\n",
       "            /* Turns off some styling */\n",
       "            progress {\n",
       "                /* gets rid of default border in Firefox and Opera. */\n",
       "                border: none;\n",
       "                /* Needs to be in here for Safari polyfill so background images work as expected. */\n",
       "                background-size: auto;\n",
       "            }\n",
       "            .progress-bar-interrupted, .progress-bar-interrupted::-webkit-progress-bar {\n",
       "                background: #F44336;\n",
       "            }\n",
       "        </style>\n",
       "      <progress value='136' class='' max='136' style='width:300px; height:20px; vertical-align: middle;'></progress>\n",
       "      100.00% [136/136 00:00<00:00 logp = -411.44, ||grad|| = 1.0875]\n",
       "    </div>\n",
       "    "
      ],
      "text/plain": [
       "<IPython.core.display.HTML object>"
      ]
     },
     "metadata": {},
     "output_type": "display_data"
    },
    {
     "name": "stdout",
     "output_type": "stream",
     "text": [
      "\n",
      "{'w0': array(-8.40514423), 'w1': array(0.12314355), 'w2': array(0.03516495), 'w3': array(-0.01330046), 'w4': array(0.00061832), 'w5': array(-0.00119234), 'w6': array(0.08971699), 'w7': array(0.94525108), 'w8': array(0.01487846)}\n"
     ]
    }
   ],
   "source": [
    "## 2 points\n",
    "\n",
    "## Explain what the code is doing:\n",
    "## What are the prior probabilities of the intercept and coefficients?\n",
    "\n",
    "    # Priors are Normal distributions with mean 0, std dev=100\n",
    "    \n",
    "# Which likelihood distribution has been used?\n",
    "\n",
    "    #Bernoulli \n",
    "    \n",
    "## What does pm.invlogit(linreg) mean?\n",
    "\n",
    "    #inverse of the logit function, 1 / (1 + exp(-x)), with linreg equation below plugged into x\n",
    "    \n",
    "## What is map_est?\n",
    "\n",
    "    # Finds the Maximum A Posteriori \n",
    "\n",
    "with pm.Model() as logreg_model:\n",
    "  \n",
    "    w0 = pm.Normal('w0', mu=0, sd=100)\n",
    "    w1 = pm.Normal('w1', mu=0, sd=100)\n",
    "    w2 = pm.Normal('w2', mu=0, sd=100)\n",
    "    w3 = pm.Normal('w3', mu=0, sd=100)\n",
    "    w4 = pm.Normal('w4', mu=0, sd=100)\n",
    "    w5 = pm.Normal('w5', mu=0, sd=100)\n",
    "    w6 = pm.Normal('w6', mu=0, sd=100)\n",
    "    w7 = pm.Normal('w7', mu=0, sd=100)\n",
    "    w8 = pm.Normal('w8', mu=0, sd=100)\n",
    "   \n",
    "    \n",
    "    linreg = w0 * np.ones(diab_df.shape[0]) + w1 * diab_df.Pregnancies.values + w2 * diab_df.Glucose.values \\\n",
    "    + w3 * diab_df.BloodPressure.values + w4 * diab_df.SkinThickness.values + w5 * diab_df.Insulin.values + \\\n",
    "    w6 * diab_df.BMI.values + w7 * diab_df.DiabetesPedigreeFunction.values + w8 * diab_df.Age.values\n",
    "    \n",
    "    p_outcome = pm.invlogit(linreg)\n",
    "\n",
    "    likelihood = pm.Bernoulli('likelihood', p_outcome, observed=diab_df.Outcome.values)\n",
    "\n",
    "    \n",
    "    map_est= pm.find_MAP()\n",
    "    print(map_est)"
   ]
  },
  {
   "cell_type": "code",
   "execution_count": null,
   "metadata": {
    "id": "md1O1OgXyQk3"
   },
   "outputs": [],
   "source": [
    "## 2 points\n",
    "\n",
    "with logreg_model:\n",
    "## ToDo: draw 400 samples using pm.Metropolis() and assign to the variable trace\n",
    "\n",
    "## Explain the output of the plot \n",
    "az.plot_posterior(trace)"
   ]
  }
 ],
 "metadata": {
  "colab": {
   "name": "DATA606_HW6.ipynb",
   "provenance": []
  },
  "kernelspec": {
   "display_name": "Python 3 (ipykernel)",
   "language": "python",
   "name": "python3"
  },
  "language_info": {
   "codemirror_mode": {
    "name": "ipython",
    "version": 3
   },
   "file_extension": ".py",
   "mimetype": "text/x-python",
   "name": "python",
   "nbconvert_exporter": "python",
   "pygments_lexer": "ipython3",
   "version": "3.8.10"
  }
 },
 "nbformat": 4,
 "nbformat_minor": 4
}
