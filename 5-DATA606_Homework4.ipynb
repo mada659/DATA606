{
 "cells": [
  {
   "cell_type": "markdown",
   "metadata": {
    "id": "ZEOKtuQB4YuL"
   },
   "source": [
    "### Homework 4\n",
    "Each questions has a grade of 2 points"
   ]
  },
  {
   "cell_type": "markdown",
   "metadata": {
    "id": "xmF7PeFH1l4Q"
   },
   "source": [
    "(1) A die D has four sides with the following probabilities :\n",
    "p(1) = p(2) = 1/8, p(3) = 1/4, p(4)= 1/2.\n",
    "What is the entropy of this distribution?\n",
    "\n",
    "(A) Calculate the entropy analytically usng the formula\n",
    "\n",
    "(B) Calculate the entropy using Python code"
   ]
  },
  {
   "cell_type": "code",
   "execution_count": null,
   "metadata": {
    "id": "obWQGo7B0pmi"
   },
   "outputs": [],
   "source": [
    "H = # your code\n",
    "H"
   ]
  },
  {
   "cell_type": "markdown",
   "metadata": {
    "id": "09xThlnY3TKs"
   },
   "source": [
    "(2) Consider the die D of quesion (1):\n",
    "\n",
    "(A) Which probability distribution of the four sides will maximize the entropy, i.e., find the values of P(1), P(2), P(3), and P(4)? \n",
    "\n",
    "(B) What is the value of the maximum entropy?"
   ]
  },
  {
   "cell_type": "code",
   "execution_count": null,
   "metadata": {
    "id": "qq2XzKMS3jEp"
   },
   "outputs": [],
   "source": [
    "# p(1)=? , p(2)=?, p(3)=?, p(4)=?\n",
    "H = # your code\n",
    "H"
   ]
  },
  {
   "cell_type": "markdown",
   "metadata": {
    "id": "r8LEvYQ57YXX"
   },
   "source": [
    "(3) A coin C1 has the probability distribution p(T) = p(H) = 1/2\n",
    "Another coin C2 has the probability distribution p(T) = 3/4, p(H) = 1/4\n",
    "What is the relative entropy (Kullback–Leibler divergence ) from C2 to C1?\n",
    "What is the relative entropy (Kullback–Leibler divergence ) from C1 to C2?"
   ]
  },
  {
   "cell_type": "markdown",
   "metadata": {
    "id": "HJf09nu4glcz"
   },
   "source": [
    "(4) Suppose we have a source with 5 symbols. The corresponding probabilities are (0.3,0.3,0.2,0.1,0.1).\n",
    "\n",
    "(A) What is the best possible average bits per symbol if we want to compress the source?\n",
    "\n",
    "(B) Give a Huffman coding for the source symbols and calculate the average bits/symbol?"
   ]
  }
 ],
 "metadata": {
  "colab": {
   "name": "DATA606_Homework4.ipynb",
   "provenance": []
  },
  "kernelspec": {
   "display_name": "Python 3 (ipykernel)",
   "language": "python",
   "name": "python3"
  },
  "language_info": {
   "codemirror_mode": {
    "name": "ipython",
    "version": 3
   },
   "file_extension": ".py",
   "mimetype": "text/x-python",
   "name": "python",
   "nbconvert_exporter": "python",
   "pygments_lexer": "ipython3",
   "version": "3.8.10"
  }
 },
 "nbformat": 4,
 "nbformat_minor": 4
}
