{
 "cells": [
  {
   "cell_type": "markdown",
   "metadata": {
    "id": "tMmEfZfNGlSj"
   },
   "source": [
    "## Jacknife\n",
    "\n",
    "The jackknife is a resampling technique especially useful for variance and bias estimation. The jackknife pre-dates other common resampling methods such as the bootstrap. The jackknife estimator of a parameter is found by systematically leaving out each observation from a dataset and calculating the estimate and then finding the average of these calculations. Given a sample of size ${\\displaystyle n}$, the jackknife estimate is found by aggregating the estimates of each ${\\displaystyle (n-1)}$-sized sub-sample.\n",
    "\n",
    "[Reference](https://en.wikipedia.org/wiki/Jackknife_resampling)\n",
    "\n",
    "The jackknife estimate of a parameter can be found by estimating the parameter for each subsample omitting the i-th observation. For example, if the parameter to be estimated is the population mean of x, we compute the mean ${\\displaystyle {\\bar {x}}_{i}}$ for each subsample consisting of all but the i-th data point:\n",
    "\n",
    "${\\displaystyle {\\bar {x}}_{i}={\\frac {1}{n-1}}\\sum _{j=1,j\\neq i}^{n}x_{j},\\quad \\quad i=1,\\dots ,n.}$\n",
    "These n estimates form an estimate of the distribution of the sample statistic if it were computed over a large number of samples. In particular, the mean of this sampling distribution is the average of these n estimates:\n",
    "\n",
    "${\\displaystyle {\\bar {x}}={\\frac {1}{n}}\\sum _{i=1}^{n}{\\bar {x}}_{i}.}$\n",
    "One can show explicitly that this ${\\displaystyle {\\bar {x}}}$ equals the usual estimate ${\\displaystyle {\\frac {1}{n}}\\sum _{i=1}^{n}x_{i}}$, so the real point emerges for higher moments than the mean. A jackknife estimate of the variance of the estimator can be calculated from the variance of this distribution of ${\\displaystyle {\\bar {x}}_{i}}$\n",
    "\n",
    "${\\displaystyle \\operatorname {Var} ({\\bar {x}})={\\frac {1}{n-1}}\\sum _{i=1}^{n}({\\bar {x}}_{i}-{\\bar {x}})^{2}={\\frac {1}{n(n-1)}}\\sum _{i=1}^{n}(x_{i}-{\\bar {x}})^{2}.}$"
   ]
  },
  {
   "cell_type": "code",
   "execution_count": 1,
   "metadata": {
    "colab": {
     "base_uri": "https://localhost:8080/"
    },
    "id": "0vLxQj-Kp3Qe",
    "outputId": "b05561ce-3fcd-4ea3-fdd6-73276a14ddba"
   },
   "outputs": [
    {
     "name": "stdout",
     "output_type": "stream",
     "text": [
      "95% CI \n",
      "lower = 0.08729150232238107, upper = 0.1318189771204143\n"
     ]
    }
   ],
   "source": [
    "import numpy as np\n",
    "original_sample = np.random.randn(100)\n",
    "\n",
    "# number of resamples\n",
    "n=len(original_sample)\n",
    "# The medians of the resamples\n",
    "medians = []\n",
    "# Remove one  out to get the jackknife resample \n",
    "for i in range(n):\n",
    "    re_sample = original_sample[np.arange(n) != i]\n",
    "    medians.append(np.median(re_sample))\n",
    "\n",
    "medians = np.array(medians)\n",
    "\n",
    "# Calculate jackknife estimate and it's variance\n",
    "median_bar = np.mean(medians)\n",
    "var_bar = (n-1)*np.var(medians)\n",
    "\n",
    "# ll = lower level of confidence interval, ul=upper level\n",
    "ll = median_bar - 1.96*np.sqrt(var_bar)\n",
    "up = median_bar + 1.96*np.sqrt(var_bar)\n",
    "print(\"95% CI \")\n",
    "print(\"lower = {}, upper = {}\".format(ll, up))"
   ]
  },
  {
   "cell_type": "markdown",
   "metadata": {
    "id": "TH58RZ49UtSh"
   },
   "source": [
    "## Bootstrapping\n",
    "We have a sample data and want to infer about the parameter of a population.\n",
    "This method resamples the sample data many times to simulate the sampling distribution. Resampling means sampling from the sample data with replacement.\n",
    "\n",
    "Bootstrapping is a non-parametric method (no assumptions on distribution)"
   ]
  },
  {
   "cell_type": "markdown",
   "metadata": {
    "id": "5an2JoGhU0Aw"
   },
   "source": [
    "Bradley Efron published \"Bootstrap methods: another look at the jackknife\" (1979).\n",
    "He received the International Prize in Statistics at the 2019 World Statistics Congress\n",
    "\n",
    "<img src='https://newsroom.taylorandfrancisgroup.com/wp-content/uploads/2018/11/stat-award.png'>"
   ]
  },
  {
   "cell_type": "markdown",
   "metadata": {
    "id": "aTUQvrmwLQDt"
   },
   "source": [
    "According to research by Cornell University’s College of Agriculture and Life Sciences and EPAM Systems, Efron’s method has been referenced in more than 200,000 peer-reviewed journal articles since 1980, and in November 2018 he was awarded the International Prize in Statistics (IPS) for the creation of the bootstrap.\n",
    "\n",
    "Harvard University’s Xiao-Li Meng says: “While statistics offers no magic pill for quantitative scientific investigations, the bootstrap is the best statistical pain reliever ever produced.”\n",
    "\n",
    "Significance Magazine, Nov 2018"
   ]
  },
  {
   "cell_type": "code",
   "execution_count": 2,
   "metadata": {
    "colab": {
     "base_uri": "https://localhost:8080/"
    },
    "id": "mW-Vw0WxU81q",
    "outputId": "59c5da22-5c95-4b29-b7df-8f6414e52330"
   },
   "outputs": [
    {
     "data": {
      "text/plain": [
       "0.5223765409443328"
      ]
     },
     "execution_count": 2,
     "metadata": {},
     "output_type": "execute_result"
    }
   ],
   "source": [
    "import numpy as np\n",
    "np.random.seed(99)\n",
    "original_sample = np.random.uniform(size=1000) # The sample is generated from uniform distribution \n",
    "original_sample.mean()"
   ]
  },
  {
   "cell_type": "code",
   "execution_count": 10,
   "metadata": {
    "colab": {
     "base_uri": "https://localhost:8080/"
    },
    "id": "Bu6heUGVVBfy",
    "outputId": "ccf445ff-13cd-4eb6-f626-eb402ab7591d"
   },
   "outputs": [
    {
     "data": {
      "text/plain": [
       "0.5206614998210277"
      ]
     },
     "execution_count": 10,
     "metadata": {},
     "output_type": "execute_result"
    }
   ],
   "source": [
    "means_boot_samples = []\n",
    "for i in range(1000):\n",
    "                boot_sample = np.random.choice(original_sample, 100)\n",
    "                means_boot_samples.append(boot_sample.mean())\n",
    "        \n",
    "np.mean(means_boot_samples)\n"
   ]
  },
  {
   "cell_type": "code",
   "execution_count": 11,
   "metadata": {
    "colab": {
     "base_uri": "https://localhost:8080/"
    },
    "id": "v6_d9BhQVGI5",
    "outputId": "eaae81a0-ec68-4477-81ab-e4bbd2b2fa52"
   },
   "outputs": [
    {
     "data": {
      "text/plain": [
       "array([0.46668433, 0.57421591])"
      ]
     },
     "execution_count": 11,
     "metadata": {},
     "output_type": "execute_result"
    }
   ],
   "source": [
    "conf_int = np.percentile(means_boot_samples, [2.5, 97.5]) # The middle 95% interval\n",
    "conf_int\n"
   ]
  },
  {
   "cell_type": "code",
   "execution_count": 12,
   "metadata": {
    "colab": {
     "base_uri": "https://localhost:8080/",
     "height": 265
    },
    "id": "8FzDBOrjVKgi",
    "outputId": "6b4bfe49-fc3a-426d-a4fb-c11d06121ca0"
   },
   "outputs": [
    {
     "data": {
      "image/png": "[encoded data removed]",
      "text/plain": [
       "<Figure size 432x288 with 1 Axes>"
      ]
     },
     "metadata": {
      "needs_background": "light"
     },
     "output_type": "display_data"
    }
   ],
   "source": [
    "import seaborn as sns\n",
    "import matplotlib.pyplot as plt\n",
    "\n",
    "sns.kdeplot(means_boot_samples)\n",
    "for endpoint in conf_int:\n",
    "    plt.axvline(endpoint, color='red')\n"
   ]
  },
  {
   "cell_type": "code",
   "execution_count": 20,
   "metadata": {
    "colab": {
     "base_uri": "https://localhost:8080/"
    },
    "id": "LP36a5YcVRb-",
    "outputId": "11656114-b977-453d-da26-3cc99ea72db9"
   },
   "outputs": [
    {
     "data": {
      "text/plain": [
       "0.5311023500835692"
      ]
     },
     "execution_count": 20,
     "metadata": {},
     "output_type": "execute_result"
    }
   ],
   "source": [
    "from sklearn.utils import resample\n",
    "means_boot_samples = []\n",
    "for i in range(1000):\n",
    "                boot_sample = resample(original_sample) # does bootstrap; replace = True\n",
    "                means_boot_samples.append(boot_sample.mean())\n",
    "        \n",
    "np.mean(means_boot_samples)"
   ]
  },
  {
   "cell_type": "code",
   "execution_count": 13,
   "metadata": {
    "id": "B6DaHZvYLl9C"
   },
   "outputs": [
    {
     "name": "stdout",
     "output_type": "stream",
     "text": [
      "1000\n"
     ]
    },
    {
     "data": {
      "text/plain": [
       "0.08270505329938635"
      ]
     },
     "execution_count": 13,
     "metadata": {},
     "output_type": "execute_result"
    }
   ],
   "source": [
    "# uniform distribution\n",
    "# Variance of unif\n",
    "# 1. Analytical : use integration\n",
    "# 2. Sampling distribution from the population  to calculate variance\n",
    "# 3. use bootstrapping to calculate the mean of the variances\n",
    "\n",
    "\n",
    "\n",
    "# Var(X) = E(X^2) - (E(X))^2\n",
    "# E(X^2) = integr( x^2*1) = X^3/3 --> 1/3\n",
    "# E(X) = integr( X*1) = x^2/2 ==> 1/2\n",
    "# (E(x))^2 = 1/4\n",
    "\n",
    "# 1/3 - 1/4 = 1/12 = 0.08333333333\n",
    "\n",
    "from sklearn.utils import resample\n",
    "var_boot_samples = []\n",
    "for i in range(1000):\n",
    "    boot_sample = resample(original_sample) # does bootstrap; replace = True\n",
    "    var_boot_samples.append(boot_sample.var())\n",
    "print(boot_sample.size)\n",
    "np.mean(var_boot_samples)\n"
   ]
  },
  {
   "cell_type": "code",
   "execution_count": null,
   "metadata": {},
   "outputs": [],
   "source": []
  },
  {
   "cell_type": "code",
   "execution_count": null,
   "metadata": {},
   "outputs": [],
   "source": []
  }
 ],
 "metadata": {
  "colab": {
   "name": "Jacknife_Bootstrapping.ipynb",
   "provenance": []
  },
  "kernelspec": {
   "display_name": "Python 3 (ipykernel)",
   "language": "python",
   "name": "python3"
  },
  "language_info": {
   "codemirror_mode": {
    "name": "ipython",
    "version": 3
   },
   "file_extension": ".py",
   "mimetype": "text/x-python",
   "name": "python",
   "nbconvert_exporter": "python",
   "pygments_lexer": "ipython3",
   "version": "3.8.10"
  }
 },
 "nbformat": 4,
 "nbformat_minor": 4
}
