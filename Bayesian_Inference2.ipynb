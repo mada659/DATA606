{
 "cells": [
  {
   "cell_type": "markdown",
   "metadata": {
    "id": "HWGmhWGrxlnF"
   },
   "source": [
    "## Motivation for Computational Approaches"
   ]
  },
  {
   "cell_type": "markdown",
   "metadata": {
    "id": "U_7ZjfFL4N_A"
   },
   "source": [
    "## The devil is in the denominator\n",
    "\n",
    "![IMAGE](https://i.stack.imgur.com/fIwYu.png)"
   ]
  },
  {
   "cell_type": "markdown",
   "metadata": {
    "id": "wNjACHKvx4LE"
   },
   "source": [
    "## Conjugate Priors:\n",
    "\n",
    "In Bayesian probability theory, if the posterior distributions p(θ | x) are in the same probability distribution family as the prior probability distribution p(θ), the prior and posterior are then called conjugate distributions, and the prior is called a conjugate prior for the likelihood function p(x | θ)\n",
    "\n",
    "\n",
    "[Reference](https://en.wikipedia.org/wiki/Conjugate_prior)\n",
    "\n",
    "--Beta Prior for Bernoulli\n",
    "\n",
    "![image](https://miro.medium.com/max/1564/1*aVuva_DeNKNYbE3eaEeSKw.png)\n",
    "\n",
    "--Beta Prior for Binomial\n",
    "\n",
    "![image](https://i.stack.imgur.com/4dw9Z.jpg)\n",
    "\n",
    "![image](https://d3i71xaburhd42.cloudfront.net/50c1b22867b9e7e30a9cd9223fac949b9321857d/43-Table2-1.png)\n",
    "\n"
   ]
  },
  {
   "cell_type": "markdown",
   "metadata": {
    "id": "UjqYMdE6T1bb"
   },
   "source": [
    "## Maximum a Posteriori Probability (MAP) estimate\n",
    "\n",
    "![image](https://miro.medium.com/max/2176/1*N1yjWNRh0IYBvqOL611Cwg.png)"
   ]
  },
  {
   "cell_type": "markdown",
   "metadata": {
    "id": "mcZQFr_VmDmn"
   },
   "source": [
    "## Exercise\n",
    "\n",
    "How did Sir Spiegelhalter get the answer of 3/7 ?\n",
    "\n",
    "Hint: Use the uniform distribution as a prior. Remember it is an special case of the beta distribution. What is the mean of the posterior ( a beta distribution)? \n",
    "\n",
    " [Spiegelhalter on Bayes and Fisher](https://www.youtube.com/watch?v=-e8wOcaascM)\n",
    "\n",
    " ![image](https://ars.els-cdn.com/content/image/3-s2.0-B9780124058880000064-f06-03-9780124058880.jpg)"
   ]
  },
  {
   "cell_type": "markdown",
   "metadata": {
    "id": "5s5ErBDi-6b5"
   },
   "source": [
    "\n",
    "A conjugate prior is an algebraic convenience, giving a closed-form expression for the posterior; otherwise numerical integration may be necessary. \n"
   ]
  },
  {
   "cell_type": "markdown",
   "metadata": {
    "id": "jX-9iC70k5S9"
   },
   "source": [
    "## Exercise\n",
    "\n",
    "(1) You put a 6-sided die and a 12-sided die in box_1\n",
    "(2) You put a 8-sided die and a 20-sided die in box_2\n",
    "(3) sample uniformly a die from box_1 and put into box_3\n",
    "(4) sample uniformly a die from box_2 and put into box_3\n",
    "(5) sample uniformly a die from box_3 and toss it.\n",
    "\n",
    " If the toss turns out to be side 3, from which box is the die more likely to come from (box_1 or box_2) ?\n",
    "\n",
    " Hint: Use the sum rule to marginalize out the dice in a given box.\n",
    "\n",
    "\n",
    "\n"
   ]
  },
  {
   "cell_type": "code",
   "execution_count": null,
   "metadata": {
    "id": "ndh9yvrMWuv3"
   },
   "outputs": [],
   "source": []
  }
 ],
 "metadata": {
  "colab": {
   "name": "Bayesian_Inference.ipynb",
   "provenance": []
  },
  "kernelspec": {
   "display_name": "Python 3 (ipykernel)",
   "language": "python",
   "name": "python3"
  },
  "language_info": {
   "codemirror_mode": {
    "name": "ipython",
    "version": 3
   },
   "file_extension": ".py",
   "mimetype": "text/x-python",
   "name": "python",
   "nbconvert_exporter": "python",
   "pygments_lexer": "ipython3",
   "version": "3.8.10"
  }
 },
 "nbformat": 4,
 "nbformat_minor": 4
}
