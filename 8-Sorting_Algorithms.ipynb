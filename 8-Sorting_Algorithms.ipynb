{
 "cells": [
  {
   "cell_type": "markdown",
   "metadata": {
    "id": "GANOLGp1_3B4"
   },
   "source": [
    "## Divide and Conquer\n",
    "\n",
    "The divide-and-conquer algorithm is used to find an optimal solution of a problem. \n",
    "\n",
    "Decompose a given problem into two or more similar, but simpler, subproblems, to solve them in turn, and to compose their solutions to solve the given problem. "
   ]
  },
  {
   "cell_type": "markdown",
   "metadata": {
    "id": "exhQbZIrFOJY"
   },
   "source": [
    "## Stack Overflow\n",
    "If not enough memory, use iterative approach with stack data structure"
   ]
  },
  {
   "cell_type": "markdown",
   "metadata": {
    "id": "mmoKJqCBGAER"
   },
   "source": [
    "## Binary Search--> O(log n)\n",
    "\n",
    "Binary Search: Search a sorted array by repeatedly dividing the search interval in half. Begin with an interval covering the whole array. If the value of the search key is less than the item in the middle of the interval, narrow the interval to the lower half. Otherwise, narrow it to the upper half. Repeatedly check until the value is found or the interval is empty.\n",
    "\n",
    "[Reference](https://www.geeksforgeeks.org/binary-search/)\n",
    "\n",
    "![image](https://www.geeksforgeeks.org/wp-content/uploads/Binary-Search.png)"
   ]
  },
  {
   "cell_type": "code",
   "execution_count": 5,
   "metadata": {
    "colab": {
     "base_uri": "https://localhost:8080/"
    },
    "id": "vjJUv0a9GCnT",
    "outputId": "f63ad472-c553-4a90-dcfd-295631267e00"
   },
   "outputs": [
    {
     "name": "stdout",
     "output_type": "stream",
     "text": [
      "Element is present at index  3\n"
     ]
    }
   ],
   "source": [
    "\n",
    "# Returns index of x in arr if present, else -1\n",
    "def binarySearch (arr, l, r, x):\n",
    " \n",
    "    # Check base case\n",
    "    if r >= l:\n",
    " \n",
    "        mid = l + (r - l) // 2\n",
    " \n",
    "        # If element is present at the middle itself\n",
    "        if arr[mid] == x:\n",
    "            return mid\n",
    "         \n",
    "        # If element is smaller than mid, then it\n",
    "        # can only be present in left subarray\n",
    "        elif arr[mid] > x:\n",
    "            return binarySearch(arr, l, mid-1, x)\n",
    " \n",
    "        # Else the element can only be present\n",
    "        # in right subarray\n",
    "        else:\n",
    "            return binarySearch(arr, mid + 1, r, x)\n",
    " \n",
    "    else:\n",
    "        # Element is not present in the array\n",
    "        return -1\n",
    " \n",
    "# Driver Code\n",
    "arr = [ 2, 3, 4, 10, 40 ]\n",
    "x = 10\n",
    " \n",
    "# Function call\n",
    "result = binarySearch(arr, 0, len(arr)-1, x)\n",
    " \n",
    "if result != -1:\n",
    "    print (\"Element is present at index % d\" % result)\n",
    "else:\n",
    "    print (\"Element is not present in array\")\n",
    "    \n",
    "# time complexity O(logn), space complexity O(1), no space occupied"
   ]
  },
  {
   "cell_type": "markdown",
   "metadata": {
    "id": "_da6KzZQG1fs"
   },
   "source": [
    "## Merge Sort --> O(n log n)\n",
    "\n",
    "It divides the input array into two halves, calls itself for the two halves, and then merges the two sorted halves\n",
    "\n",
    "![image](https://media.geeksforgeeks.org/wp-content/cdn-uploads/Merge-Sort-Tutorial.png)\n",
    "\n",
    "[Reference](https://www.geeksforgeeks.org/merge-sort/)"
   ]
  },
  {
   "cell_type": "code",
   "execution_count": 1,
   "metadata": {
    "colab": {
     "base_uri": "https://localhost:8080/"
    },
    "id": "JtJ2oRIqkugn",
    "outputId": "f8eeadd3-9933-4ec1-d7cb-2319f4bf10ee"
   },
   "outputs": [
    {
     "name": "stdout",
     "output_type": "stream",
     "text": [
      "Given array is\n",
      "12 11 13 5 6 7 \n",
      "Sorted array is: \n",
      "5 6 7 11 12 13 \n"
     ]
    }
   ],
   "source": [
    "# Python program for implementation of MergeSort\n",
    "def mergeSort(arr):\n",
    "    if len(arr) > 1:\n",
    " \n",
    "         # Finding the mid of the array\n",
    "        mid = len(arr)//2\n",
    " \n",
    "        # Dividing the array elements\n",
    "        L = arr[:mid]\n",
    " \n",
    "        # into 2 halves\n",
    "        R = arr[mid:]\n",
    " \n",
    "        # Sorting the first half\n",
    "        mergeSort(L)\n",
    " \n",
    "        # Sorting the second half\n",
    "        mergeSort(R)\n",
    " \n",
    "        i = j = k = 0\n",
    " \n",
    "        # Copy data to temp arrays L[] and R[]\n",
    "        while i < len(L) and j < len(R):\n",
    "            if L[i] < R[j]:\n",
    "                arr[k] = L[i]\n",
    "                i += 1\n",
    "            else:\n",
    "                arr[k] = R[j]\n",
    "                j += 1\n",
    "            k += 1\n",
    " \n",
    "        # Checking if any element was left\n",
    "        while i < len(L):\n",
    "            arr[k] = L[i]\n",
    "            i += 1\n",
    "            k += 1\n",
    " \n",
    "        while j < len(R):\n",
    "            arr[k] = R[j]\n",
    "            j += 1\n",
    "            k += 1\n",
    " \n",
    "# Code to print the list\n",
    " \n",
    " \n",
    "def printList(arr):\n",
    "    for i in range(len(arr)):\n",
    "        print(arr[i], end=\" \")\n",
    "    print()\n",
    " \n",
    " \n",
    "# Driver Code\n",
    "if __name__ == '__main__':\n",
    "    arr = [12, 11, 13, 5, 6, 7]\n",
    "    print(\"Given array is\", end=\"\\n\")\n",
    "    printList(arr)\n",
    "    mergeSort(arr)\n",
    "    print(\"Sorted array is: \", end=\"\\n\")\n",
    "    printList(arr)\n",
    " \n",
    "# This code is contributed by Mayank Khanna"
   ]
  },
  {
   "cell_type": "markdown",
   "metadata": {
    "id": "yUlSJ-W_fase"
   },
   "source": [
    "## Quicksort\n",
    "\n",
    "QuickSort is also a Divide and Conquer algorithm. It picks an element as pivot and partitions the given array around the picked pivot. \n",
    "\n",
    "![image](https://www.geeksforgeeks.org/wp-content/uploads/gq/2014/01/QuickSort2.png)\n",
    "\n",
    "[Reference](https://www.geeksforgeeks.org/quick-sort/)"
   ]
  },
  {
   "cell_type": "code",
   "execution_count": 2,
   "metadata": {
    "colab": {
     "base_uri": "https://localhost:8080/"
    },
    "id": "7llNeejtgiWR",
    "outputId": "23bf4932-cd72-45c0-ca90-0ea0ea282ce6"
   },
   "outputs": [
    {
     "name": "stdout",
     "output_type": "stream",
     "text": [
      "Sorted array: [1, 5, 7, 8, 9, 10]\n"
     ]
    }
   ],
   "source": [
    "# Python3 implementation of QuickSort \n",
    " \n",
    "# This Function handles sorting part of quick sort\n",
    "# start and end points to first and last element of\n",
    "# an array respectively\n",
    "def partition(start, end, array):\n",
    "     \n",
    "    # Initializing pivot's index to start\n",
    "    pivot_index = start\n",
    "    pivot = array[pivot_index]\n",
    "     \n",
    "    # This loop runs till start pointer crosses\n",
    "    # end pointer, and when it does we swap the\n",
    "    # pivot with element on end pointer\n",
    "    while start < end:\n",
    "         \n",
    "        # Increment the start pointer till it finds an\n",
    "        # element greater than  pivot\n",
    "        while start < len(array) and array[start] <= pivot:\n",
    "            start += 1\n",
    "             \n",
    "        # Decrement the end pointer till it finds an\n",
    "        # element less than pivot\n",
    "        while array[end] > pivot:\n",
    "            end -= 1\n",
    "         \n",
    "        # If start and end have not crossed each other,\n",
    "        # swap the numbers on start and end\n",
    "        if(start < end):\n",
    "            array[start], array[end] = array[end], array[start]\n",
    "     \n",
    "    # Swap pivot element with element on end pointer.\n",
    "    # This puts pivot on its correct sorted place.\n",
    "    array[end], array[pivot_index] = array[pivot_index], array[end]\n",
    "    \n",
    "    # Returning end pointer to divide the array into 2\n",
    "    return end\n",
    "     \n",
    "# The main function that implements QuickSort\n",
    "def quick_sort(start, end, array):\n",
    "     \n",
    "    if (start < end):\n",
    "         \n",
    "        # p is partitioning index, array[p]\n",
    "        # is at right place\n",
    "        p = partition(start, end, array)\n",
    "         \n",
    "        # Sort elements before partition\n",
    "        # and after partition\n",
    "        quick_sort(start, p - 1, array)\n",
    "        quick_sort(p + 1, end, array)\n",
    "         \n",
    "# Driver code\n",
    "array = [ 10, 7, 8, 9, 1, 5 ]\n",
    "quick_sort(0, len(array) - 1, array)\n",
    " \n",
    "print(f'Sorted array: {array}')\n",
    "     \n",
    "# This code is contributed by Adnan Aliakbar"
   ]
  }
 ],
 "metadata": {
  "colab": {
   "name": "Sorting_Algorithms.ipynb",
   "provenance": []
  },
  "kernelspec": {
   "display_name": "Python 3 (ipykernel)",
   "language": "python",
   "name": "python3"
  },
  "language_info": {
   "codemirror_mode": {
    "name": "ipython",
    "version": 3
   },
   "file_extension": ".py",
   "mimetype": "text/x-python",
   "name": "python",
   "nbconvert_exporter": "python",
   "pygments_lexer": "ipython3",
   "version": "3.8.10"
  }
 },
 "nbformat": 4,
 "nbformat_minor": 4
}
