{
 "cells": [
  {
   "cell_type": "markdown",
   "metadata": {
    "id": "ZwqJVC-hp4Nr"
   },
   "source": [
    "## Grading: 2 points for each question"
   ]
  },
  {
   "cell_type": "code",
   "execution_count": 42,
   "metadata": {
    "id": "cwA_IhbepyCI"
   },
   "outputs": [
    {
     "name": "stdout",
     "output_type": "stream",
     "text": [
      "27\n"
     ]
    },
    {
     "data": {
      "text/plain": [
       "-1"
      ]
     },
     "execution_count": 42,
     "metadata": {},
     "output_type": "execute_result"
    }
   ],
   "source": [
    "## Question 1\n",
    "\n",
    "# What is the following code doing and what is its time complexity ?\n",
    "\n",
    "def doSomething(n):\n",
    "    j=1\n",
    "    i=1\n",
    "    while(j*j <= n):\n",
    "        i+=1\n",
    "        \n",
    "        if j*j == n:\n",
    "            return j\n",
    "        else:\n",
    "            j+=1\n",
    "    print(i)\n",
    "    return -1\n",
    "\n",
    "\n",
    "\n",
    "# Increments \"j\" until j^2 exceeds n. returns j if exactly equals n.... O(sqrt(n))"
   ]
  },
  {
   "cell_type": "code",
   "execution_count": 15,
   "metadata": {
    "id": "bYq3ZY83xTPP"
   },
   "outputs": [
    {
     "data": {
      "text/plain": [
       "4"
      ]
     },
     "execution_count": 15,
     "metadata": {},
     "output_type": "execute_result"
    }
   ],
   "source": [
    "## Question 2\n",
    "\n",
    "# What is the following code doing and what is its time complexity ?\n",
    "\n",
    "def doSomething(n,m):\n",
    "  if m <= 0:\n",
    "    return -1\n",
    "  j = n // m\n",
    "  return n-j*m\n",
    "\n",
    "\n",
    "# Does a single calculation on n and m... O(1)"
   ]
  },
  {
   "cell_type": "code",
   "execution_count": 62,
   "metadata": {
    "id": "OqORpYl1Q-hV"
   },
   "outputs": [
    {
     "name": "stdout",
     "output_type": "stream",
     "text": [
      "9\n"
     ]
    },
    {
     "data": {
      "text/plain": [
       "11"
      ]
     },
     "execution_count": 62,
     "metadata": {},
     "output_type": "execute_result"
    }
   ],
   "source": [
    "## Question 3\n",
    "\n",
    "# What is the following code doing and what is its time complexity ?\n",
    "\n",
    "def doSomething(n):\n",
    "  j=0\n",
    "\n",
    "  while(n>0):\n",
    " \n",
    "    j+=n%10\n",
    "    n//=10\n",
    "  print(i)\n",
    "  return j\n",
    "\n",
    "\n",
    "\n",
    "# sums the digits in n. Increments j by remainder of n/10, Floor divides n by 10 each iteration... O(log_10(n))"
   ]
  },
  {
   "cell_type": "code",
   "execution_count": 38,
   "metadata": {
    "id": "aH4zzM1BRr03"
   },
   "outputs": [
    {
     "data": {
      "text/plain": [
       "0"
      ]
     },
     "execution_count": 38,
     "metadata": {},
     "output_type": "execute_result"
    }
   ],
   "source": [
    "## Question 4\n",
    "\n",
    "# What is the following code doing and what is its time complexity ?\n",
    "\n",
    "def doSomething(n,m):\n",
    "  if m < 0:\n",
    "    return 0\n",
    "  elif m == 0:\n",
    "    return 1\n",
    "  else:\n",
    "    return n*doSomething(n, m-1)\n",
    "\n",
    "\n",
    "# Calculates n^m for positive m values, by recursively calling itself snd multiplying by n until m gets to 0 ... O(m)\n"
   ]
  }
 ],
 "metadata": {
  "colab": {
   "name": "DATA606_HW5.ipynb",
   "provenance": []
  },
  "kernelspec": {
   "display_name": "Python 3 (ipykernel)",
   "language": "python",
   "name": "python3"
  },
  "language_info": {
   "codemirror_mode": {
    "name": "ipython",
    "version": 3
   },
   "file_extension": ".py",
   "mimetype": "text/x-python",
   "name": "python",
   "nbconvert_exporter": "python",
   "pygments_lexer": "ipython3",
   "version": "3.8.10"
  }
 },
 "nbformat": 4,
 "nbformat_minor": 4
}
