{
 "cells": [
  {
   "cell_type": "markdown",
   "metadata": {
    "id": "uapNSGuNvhjB"
   },
   "source": [
    "## Dynamic Programming\n",
    "\n",
    "It is an optimization method that uses recursion over overlapping sub-problems."
   ]
  },
  {
   "cell_type": "markdown",
   "metadata": {
    "id": "VEFaenomzSqj"
   },
   "source": [
    "## History\n",
    "\n",
    "Bellman explains the reasoning behind the term dynamic programming in his autobiography, Eye of the Hurricane: An Autobiography:\n",
    "\n",
    "I spent the Fall quarter (of 1950) at RAND. My first task was to find a name for multistage decision processes. An interesting question is, \"Where did the name, dynamic programming, come from?\" The 1950s were not good years for mathematical research. We had a very interesting gentleman in Washington named Wilson. He was Secretary of Defense, and he actually had a pathological fear and hatred of the word \"research\". I’m not using the term lightly; I’m using it precisely. His face would suffuse, he would turn red, and he would get violent if people used the term research in his presence. You can imagine how he felt, then, about the term mathematical. The RAND Corporation was employed by the Air Force, and the Air Force had Wilson as its boss, essentially. Hence, I felt I had to do something to shield Wilson and the Air Force from the fact that I was really doing mathematics inside the RAND Corporation. What title, what name, could I choose? ....\n",
    "\n",
    "Thus, I thought dynamic programming was a good name. It was something not even a Congressman could object to. So I used it as an umbrella for my activities.\n",
    "\n",
    "[Wikipedia](https://en.wikipedia.org/wiki/Dynamic_programming)"
   ]
  },
  {
   "cell_type": "markdown",
   "metadata": {
    "id": "-bUlctS25w93"
   },
   "source": [
    "## Applications\n",
    "\n",
    "Reinforcement Learning\n",
    "\n",
    "![image](https://www.researchgate.net/profile/Roohollah-Amiri/publication/323867253/figure/fig2/AS:606095550738432@1521515848671/Reinforcement-Learning-Agent-and-Environment.png)\n",
    "\n",
    "\n",
    "AlphaGo\n",
    "\n",
    "![image](https://intellipaat.com/blog/wp-content/uploads/2017/10/The-Unstoppable-Power-of-Deep-Learning-%E2%80%93-AlphaGo-vs.-Lee-Sedol-Case-Study.png)"
   ]
  },
  {
   "cell_type": "markdown",
   "metadata": {
    "id": "SixnG05JLRs1"
   },
   "source": [
    "## Bellman's principle of optimality\n",
    "\n",
    "Principle of Optimality: An optimal policy has the property that whatever the initial state and initial decision are, the remaining decisions must constitute an optimal policy with regard to the state resulting from the first decision. (See Bellman, 1957, Chap. III.3.)\n",
    "\n",
    "\n",
    "${\\displaystyle \\max _{a_{0}}\\left\\{F(x_{0},a_{0})+\\beta \\left[\\max _{\\left\\{a_{t}\\right\\}_{t=1}^{\\infty }}\\sum _{t=1}^{\\infty }\\beta ^{t-1}F(x_{t},a_{t}):a_{t}\\in \\Gamma (x_{t}),\\;x_{t+1}=T(x_{t},a_{t}),\\;\\forall t\\geq 1\\right]\\right\\}}$\n",
    "subject to the constraints\n",
    "\n",
    "${\\displaystyle a_{0}\\in \\Gamma (x_{0}),\\;x_{1}=T(x_{0},a_{0}).}$"
   ]
  },
  {
   "cell_type": "markdown",
   "metadata": {
    "id": "evPgqwjeMG14"
   },
   "source": [
    "## Bellman Equation\n",
    "\n",
    " The value function:\n",
    "\n",
    "${\\displaystyle V(x_{0})=\\max _{a_{0}}\\{F(x_{0},a_{0})+\\beta V(x_{1})\\}}$, \n",
    "\n",
    "subject to the constraints: ${\\displaystyle a_{0}\\in \\Gamma (x_{0}),\\;x_{1}=T(x_{0},a_{0}).}$\n",
    "\n",
    "It can be simplified even further if we drop time subscripts and plug in the value of the next state:\n",
    "\n",
    "${\\displaystyle V(x)=\\max _{a\\in \\Gamma (x)}\\{F(x,a)+\\beta V(T(x,a))\\}.}$\n",
    "\n",
    "[Reference](https://en.wikipedia.org/wiki/Bellman_equation)"
   ]
  },
  {
   "cell_type": "markdown",
   "metadata": {
    "id": "5-tQe95Xpi8U"
   },
   "source": [
    "## Shortest Path\n",
    "\n",
    "![image](https://media.springernature.com/original/springer-static/image/chp%3A10.1007%2F978-981-15-0644-4_12/MediaObjects/477975_1_En_12_Fig3_HTML.png)"
   ]
  },
  {
   "cell_type": "markdown",
   "metadata": {
    "id": "ZkPdZV9373Q5"
   },
   "source": [
    "## Fibonacci Numbers\n",
    "\n",
    "Fibonacci sequence is defined such that each number is the sum of the two preceding ones, starting from 0 and 1. \n",
    "\n",
    "${\\displaystyle F_{0}=0,\\quad F_{1}=1,}{\\displaystyle F_{0}=0,\\quad F_{1}=1,}$\n",
    "\n",
    "and\n",
    "\n",
    "${\\displaystyle F_{n}=F_{n-1}+F_{n-2}}$\n",
    "for n > 1.\n",
    "\n",
    "The sequence starts:\n",
    "\n",
    "${\\displaystyle 0,\\;1,\\;1,\\;2,\\;3,\\;5,\\;8,\\;13,\\;21,\\;34,\\;55,\\;89,\\;144,\\;\\ldots }$\n",
    "\n",
    "[Reference](https://en.wikipedia.org/wiki/Fibonacci_number)\n",
    "\n",
    "![image](https://qph.fs.quoracdn.net/main-qimg-07b90165ddb687ddf6700e90fea22c24.webp)"
   ]
  },
  {
   "cell_type": "markdown",
   "metadata": {
    "id": "cAg9DodaY2Ak"
   },
   "source": [
    "## Recursion\n",
    "\n",
    "Time complexity is exponential: O(1.618^n) or even O(n*1.618^n) for large numbers"
   ]
  },
  {
   "cell_type": "code",
   "execution_count": 1,
   "metadata": {
    "id": "kF-sVKI1muLZ"
   },
   "outputs": [],
   "source": [
    "## Fibonacci: f(n) = f(n-1) + f(n-2)\n",
    "def fib_1(n):\n",
    "  if n==0 or n==1:\n",
    "    return 1\n",
    "\n",
    "  return fib_1(n-1) + fib_1(n-2)"
   ]
  },
  {
   "cell_type": "code",
   "execution_count": 2,
   "metadata": {
    "colab": {
     "base_uri": "https://localhost:8080/"
    },
    "id": "pY81m8FuoP6t",
    "outputId": "9560f590-f6e1-452c-a50b-d206838eb060"
   },
   "outputs": [
    {
     "name": "stdout",
     "output_type": "stream",
     "text": [
      "14930352\n",
      "The time difference: 3.4677666000061436\n"
     ]
    }
   ],
   "source": [
    "from time import time\n",
    "import timeit\n",
    "\n",
    "starttime = timeit.default_timer()\n",
    "\n",
    "print(fib_1(35))\n",
    "#end = time()\n",
    "#print(end - start)\n",
    "print(\"The time difference:\", timeit.default_timer() - starttime ) "
   ]
  },
  {
   "cell_type": "markdown",
   "metadata": {
    "id": "1svBajTQvCY7"
   },
   "source": [
    "## Recursion with Memoization\n",
    "\n",
    "Time complexity O(n) or O(n^2) for large numbers"
   ]
  },
  {
   "cell_type": "code",
   "execution_count": 3,
   "metadata": {
    "id": "D6GbTcb1of-C"
   },
   "outputs": [],
   "source": [
    "def fib_2(n):\n",
    "  if n in d:\n",
    "      return d[n]\n",
    "  if n==0 or n==1:\n",
    "      d[n] = 1\n",
    "      return d[n]\n",
    "  else:\n",
    "    d[n] = fib_2(n-1) + fib_2(n-2)\n",
    "    return d[n]"
   ]
  },
  {
   "cell_type": "code",
   "execution_count": null,
   "metadata": {
    "id": "dTAtqM2EA51D"
   },
   "outputs": [],
   "source": []
  },
  {
   "cell_type": "code",
   "execution_count": 4,
   "metadata": {
    "colab": {
     "base_uri": "https://localhost:8080/"
    },
    "id": "_YqcNe0Cqk6T",
    "outputId": "5c755827-1fa5-4cb4-fe83-39afc7e3aa34"
   },
   "outputs": [
    {
     "name": "stdout",
     "output_type": "stream",
     "text": [
      "14930352\n",
      "The time difference: 0.0006628999981330708\n"
     ]
    }
   ],
   "source": [
    "\n",
    "starttime = timeit.default_timer()\n",
    "\n",
    "d={} ## dictionary (hash map) to store results\n",
    "\n",
    "print(fib_2(35))\n",
    "print(\"The time difference:\", timeit.default_timer() - starttime ) "
   ]
  },
  {
   "cell_type": "markdown",
   "metadata": {
    "id": "H9r-ic-xQMIX"
   },
   "source": [
    "## Bottom Up\n",
    "\n",
    "Time complexity O(n) or O(n^2) for large number"
   ]
  },
  {
   "cell_type": "code",
   "execution_count": 5,
   "metadata": {
    "id": "9eWpWeornRhM"
   },
   "outputs": [],
   "source": [
    "# Fill DP array/table\n",
    "def fib_2(n):\n",
    "  dp=list(range(n+1))\n",
    "  dp[0]=1\n",
    "  dp[1]=1\n",
    "  \n",
    "  i=2\n",
    "  while(i<n+1):\n",
    "    dp[i]=dp[i-1]+dp[i-2]\n",
    "    i+=1\n",
    "\n",
    "  return dp[n]"
   ]
  },
  {
   "cell_type": "code",
   "execution_count": 6,
   "metadata": {
    "colab": {
     "base_uri": "https://localhost:8080/"
    },
    "id": "yRDtuJitoSco",
    "outputId": "5b772d0f-9d3a-46a9-ae15-fd44b5a1cd0c"
   },
   "outputs": [
    {
     "name": "stdout",
     "output_type": "stream",
     "text": [
      "14930352\n",
      "The time difference: 0.00047250000352505594\n"
     ]
    }
   ],
   "source": [
    "starttime = timeit.default_timer()\n",
    "print(fib_2(35))\n",
    "end = time()\n",
    "print(\"The time difference:\", timeit.default_timer() - starttime ) "
   ]
  },
  {
   "cell_type": "markdown",
   "metadata": {
    "id": "clQwLVur5cSs"
   },
   "source": [
    "## Levenshtein Edit Distance\n",
    "\n",
    "Levenshtein distance is the minimum number of single-character edits (insertions, deletions or substitutions) required to change one word into the other. It is named after the Soviet mathematician Vladimir Levenshtein, who considered this distance in 1965.\n",
    "[Reference](https://en.wikipedia.org/wiki/Levenshtein_distance)\n",
    "\n",
    "Some applications:\n",
    "- Spell checking\n",
    "- Speech recognition\n",
    "- DNA analysis\n",
    "- Plagiarism detection\n",
    "\n",
    "Computing the Levenshtein distance is based on the observation that if we reserve a matrix to hold the Levenshtein distances between all prefixes of the first string and all prefixes of the second, then we can compute the values in the matrix in a dynamic programming fashion, and thus find the distance between the two full strings as the last value computed.\n",
    "\n",
    "This algorithm, an example of bottom-up dynamic programming, is discussed, with variants, in the 1974 article The String-to-string correction problem by Robert A. Wagner and Michael J. Fischer.\n"
   ]
  },
  {
   "cell_type": "code",
   "execution_count": 7,
   "metadata": {
    "id": "y40wsjl25rMt"
   },
   "outputs": [],
   "source": [
    "def editDistDP(str1, str2, m, n):\n",
    "    # Create a table to store results of subproblems\n",
    "    dp = [[0 for x in range(n + 1)] for x in range(m + 1)] #space complexity O(nm)\n",
    "    \n",
    "    # Fill d[][] in bottom up manner\n",
    "    for i in range(m + 1):\n",
    "        for j in range(n + 1):\n",
    " \n",
    "            # If first string is empty, only option is to\n",
    "            # insert all characters of second string\n",
    "            if i == 0:\n",
    "                dp[i][j] = j    # Min. operations = j\n",
    " \n",
    "            # If second string is empty, only option is to\n",
    "            # remove all characters of second string\n",
    "            elif j == 0:\n",
    "                dp[i][j] = i    # Min. operations = i\n",
    " \n",
    "            # If last characters are same, ignore last char\n",
    "            # and recur for remaining string\n",
    "            \n",
    "            elif str1[i-1] == str2[j-1]:\n",
    "                dp[i][j] = dp[i-1][j-1]\n",
    " \n",
    "            # If last character are different, consider all\n",
    "            # possibilities and find minimum\n",
    "            else:\n",
    "                #import pdb; pdb.set_trace()\n",
    "                dp[i][j] = 1 + min(dp[i][j-1],        # Insert\n",
    "                                   dp[i-1][j],        # Remove\n",
    "                                   dp[i-1][j-1])    # Replace\n",
    " \n",
    "    return dp[m][n]\n",
    " \n",
    " "
   ]
  },
  {
   "cell_type": "markdown",
   "metadata": {
    "id": "BFTHunrBcgCc"
   },
   "source": [
    "\n",
    "![image](https://gblobscdn.gitbook.com/assets%2F-M1hB-LnPpOmZGsmxY7T%2Fsync%2F6d1d9c8cd909bded843cf54135fda64919d6283e.jpg?alt=media)\n",
    "\n",
    "![image](https://www.programmersought.com/images/381/00f329d34c283877e1479b2a91dfb085.png)"
   ]
  },
  {
   "cell_type": "code",
   "execution_count": 9,
   "metadata": {
    "colab": {
     "base_uri": "https://localhost:8080/"
    },
    "id": "kJJzIIUmTjzt",
    "outputId": "70b5b9bc-5fe0-4da8-9cd4-f6590863aea2"
   },
   "outputs": [
    {
     "data": {
      "text/plain": [
       "3"
      ]
     },
     "execution_count": 9,
     "metadata": {},
     "output_type": "execute_result"
    }
   ],
   "source": [
    "str1 = 'kitten'\n",
    "str2 = 'sitting'\n",
    "m=6\n",
    "n=7\n",
    "editDistDP(str1, str2, m, n)"
   ]
  },
  {
   "cell_type": "markdown",
   "metadata": {
    "id": "ZWoANW6tauuX"
   },
   "source": [
    "## Exercise\n",
    "\n",
    "str1 = 'replace'\n",
    "\n",
    "str2 = 'delete'\n",
    "\n",
    "Create the DP table and fill it. Check the answer by running the editDistDP(str1, str2, m, n) function"
   ]
  },
  {
   "cell_type": "code",
   "execution_count": 5,
   "metadata": {},
   "outputs": [
    {
     "data": {
      "text/plain": [
       "4"
      ]
     },
     "execution_count": 5,
     "metadata": {},
     "output_type": "execute_result"
    }
   ],
   "source": [
    "str1 = 'replace'\n",
    "str2 = 'delete'\n",
    "m=7\n",
    "n=6\n",
    "editDistDP(str1, str2, m, n)"
   ]
  },
  {
   "cell_type": "code",
   "execution_count": null,
   "metadata": {},
   "outputs": [],
   "source": []
  }
 ],
 "metadata": {
  "colab": {
   "name": "Dynamic_Programming.ipynb",
   "provenance": []
  },
  "kernelspec": {
   "display_name": "Python 3 (ipykernel)",
   "language": "python",
   "name": "python3"
  },
  "language_info": {
   "codemirror_mode": {
    "name": "ipython",
    "version": 3
   },
   "file_extension": ".py",
   "mimetype": "text/x-python",
   "name": "python",
   "nbconvert_exporter": "python",
   "pygments_lexer": "ipython3",
   "version": "3.8.10"
  }
 },
 "nbformat": 4,
 "nbformat_minor": 4
}
