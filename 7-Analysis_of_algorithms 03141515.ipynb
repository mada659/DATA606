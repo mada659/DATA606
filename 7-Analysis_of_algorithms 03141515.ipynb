{
 "cells": [
  {
   "cell_type": "markdown",
   "metadata": {
    "id": "X19gojYYmVz1"
   },
   "source": [
    "## Analysis of algorithms \n",
    "\n",
    "It is the process of finding the computational complexity of algorithms – the amount of time, storage, or other resources needed to execute them. Usually, this involves determining a function that relates the length of an algorithm's input to the number of steps it takes (its time complexity) or the number of storage locations it uses (its space complexity).\n",
    "\n",
    "[Reference](https://en.wikipedia.org/wiki/Analysis_of_algorithms)"
   ]
  },
  {
   "cell_type": "markdown",
   "metadata": {
    "id": "gh-7netkaG0v"
   },
   "source": [
    "\n",
    "![image](https://media.geeksforgeeks.org/wp-content/cdn-uploads/mypic.png)\n",
    "\n",
    "\n",
    "[Cheatsheet](https://www.bigocheatsheet.com/)"
   ]
  },
  {
   "cell_type": "markdown",
   "metadata": {
    "id": "3OYmnhm2cXgF"
   },
   "source": [
    "## Time Complexity\n",
    "\n",
    "A measure of the amount of time it takes an algorithm to do a task of a given input size"
   ]
  },
  {
   "cell_type": "markdown",
   "metadata": {
    "id": "x016n48UdJFl"
   },
   "source": [
    "## Examples\n",
    "\n",
    "-- \"Constant\" - O(1) \n",
    "\n",
    "-- Logarithmic algorithm – O(logn) – Binary Search. \n",
    "\n",
    "-- Linear algorithm – O(n) – Linear Search. \n",
    "\n",
    "-- linearithmic algorithm – O(nlogn) – Heap Sort, Merge Sort. \n",
    "--"
   ]
  },
  {
   "cell_type": "markdown",
   "metadata": {
    "id": "-Ytfv823d6E7"
   },
   "source": [
    "## Space Complexity\n",
    "\n",
    "A measure of the amount of memory space needed for an algorithm to do a task of a given input size\n",
    "\n",
    "For example, if the algorithm needs to create an array of size n, then it is O(n). A matrix of n by n takes O(n^2) memory space."
   ]
  },
  {
   "cell_type": "markdown",
   "metadata": {
    "id": "AL6XtjqLUjKO"
   },
   "source": [
    "## Who wants to be a Millionaire?\n",
    "\n",
    "[Clay Institute Millenium Problems: The P vs NP Problem](https://www.claymath.org/millennium-problems/p-vs-np-problem)\n",
    "\n",
    "Computational complexity theory plays an important role in modern cryptography. The security of the Internet, including most financial transactions,\n",
    "depends on complexity-theoretic assumptions such as the difficulty of integer factoring or of breaking DES (the Data Encryption Standard). If <mark>P = NP</mark>, these\n",
    "assumptions are all false. Specifically, an algorithm solving 3-SAT in n^2\n",
    "steps could be used to factor 200-digit numbers in a few minutes.\n",
    "[The P versus NP Problem paper](https://www.claymath.org/sites/default/files/pvsnp.pdf)\n",
    "\n",
    " For example, [Peter Shor](https://en.wikipedia.org/wiki/Peter_Shor)  has shown that\n",
    "some quantum computer algorithm is able to factor integers in polynomial time,\n",
    "but no polynomial-time integer-factoring algorithm is known for Turing machines.\n",
    "Physicists have so far been unable to build a quantum computer that can handle\n",
    "more than a half-dozen bits, so this threat to the feasibility thesis is hypothetical\n",
    "at present. [The P versus NP Problem paper](https://www.claymath.org/sites/default/files/pvsnp.pdf)\n"
   ]
  },
  {
   "cell_type": "markdown",
   "metadata": {
    "id": "sOHdS9Ov2yMh"
   },
   "source": [
    "# Keep largest exponent\n",
    "\n",
    "We omit constants and lower exponents:\n",
    "\n",
    "O(5*N^2 + 3*N + 11) = O(N^2)"
   ]
  },
  {
   "cell_type": "markdown",
   "metadata": {
    "id": "8gD_LMwWhKEY"
   },
   "source": [
    "## Examples\n",
    "\n",
    "What is the time and space complexity of the following algorithms?"
   ]
  },
  {
   "cell_type": "code",
   "execution_count": null,
   "metadata": {
    "id": "O7-xk_w3hPpC"
   },
   "outputs": [],
   "source": [
    "# Example 1. --> time O(n), space O(n)\n",
    "\n",
    "L=[]\n",
    "#n=10\n",
    "for i in range(n):\n",
    "  L.append(i)\n",
    "L"
   ]
  },
  {
   "cell_type": "code",
   "execution_count": null,
   "metadata": {
    "id": "wems_HfDiJgE"
   },
   "outputs": [],
   "source": [
    "# Example 2 ----> time O(n), space O(1)\n",
    "for i in range(n):\n",
    "  print(i)"
   ]
  },
  {
   "cell_type": "code",
   "execution_count": null,
   "metadata": {
    "colab": {
     "base_uri": "https://localhost:8080/"
    },
    "id": "rVuWKV9SiTps",
    "outputId": "4f0339bd-ae2d-4716-e619-47a2738fad66"
   },
   "outputs": [
    {
     "data": {
      "text/plain": [
       "5050"
      ]
     },
     "execution_count": 4,
     "metadata": {},
     "output_type": "execute_result"
    }
   ],
   "source": [
    "# Example 3 : O(n) time and O(n) space b/c of stack in recursion\n",
    "def add(n):\n",
    "  if n<=0:\n",
    "    return 0\n",
    "  return n+add(n-1)\n",
    "add(100) # How did 9-year old Gauss do it?"
   ]
  },
  {
   "cell_type": "code",
   "execution_count": null,
   "metadata": {
    "id": "iJ9sQd0z9dwG"
   },
   "outputs": [],
   "source": [
    "# Example 4 ----> time O(n*m), space O(1)\n",
    "\n",
    "for i in range(n):\n",
    "  for j in range(m):\n",
    "    print(i+j)\n"
   ]
  },
  {
   "cell_type": "code",
   "execution_count": null,
   "metadata": {
    "id": "DLYqQB7u_Hun"
   },
   "outputs": [],
   "source": [
    "# Example 5 ----> time O(n+m)\n",
    "\n",
    "for i in range(n):\n",
    "  print(i)\n",
    "\n",
    "for j in range(m):\n",
    "  print(j)"
   ]
  },
  {
   "cell_type": "markdown",
   "metadata": {
    "id": "eC0oL1j9aaBa"
   },
   "source": [
    "## Fibonacci Numbers\n",
    "\n",
    "The Fibonacci numbers were first described in Indian mathematics, as early as 200 BC in work by Pingala on enumerating possible patterns of Sanskrit poetry formed from syllables of two lengths. They are named after the Italian mathematician Leonardo of Pisa, later known as Fibonacci, who introduced the sequence to Western European mathematics in his 1202 book Liber Abaci.\n",
    "[Wikipedia](https://en.wikipedia.org/wiki/Fibonacci_number)"
   ]
  },
  {
   "cell_type": "code",
   "execution_count": 1,
   "metadata": {
    "colab": {
     "base_uri": "https://localhost:8080/"
    },
    "id": "SoGXK-ixJwtf",
    "outputId": "66936f0f-7e37-48b6-b8a4-6c393a3cca5e"
   },
   "outputs": [
    {
     "data": {
      "text/plain": [
       "21"
      ]
     },
     "execution_count": 1,
     "metadata": {},
     "output_type": "execute_result"
    }
   ],
   "source": [
    "# Example 6: Fibonacci numbers -----> time O(2^n)\n",
    "\n",
    "def recurse(n):\n",
    "  if n <= 0:\n",
    "    return 0\n",
    "  elif n==1:\n",
    "    return 1\n",
    "  return recurse(n-1) + recurse(n-2)\n",
    "\n",
    "recurse(8)"
   ]
  },
  {
   "cell_type": "code",
   "execution_count": 4,
   "metadata": {
    "id": "2u4sZyeRL4E4"
   },
   "outputs": [
    {
     "data": {
      "text/plain": [
       "128"
      ]
     },
     "execution_count": 4,
     "metadata": {},
     "output_type": "execute_result"
    }
   ],
   "source": [
    "# Example 7 ------>time O(log_2 n)\n",
    "\n",
    "# 1=2^0, 2=2^1, ...,n\n",
    "\n",
    "def baseTwo(n):\n",
    "  if n < 1:\n",
    "    return 0\n",
    "  elif n == 1:\n",
    "    return 1\n",
    "  else:\n",
    "    return 2*baseTwo(n//2)\n",
    "\n",
    "\n",
    "baseTwo(200)"
   ]
  },
  {
   "cell_type": "code",
   "execution_count": null,
   "metadata": {},
   "outputs": [],
   "source": []
  }
 ],
 "metadata": {
  "colab": {
   "name": "Analysis_of_algorithms.ipynb",
   "provenance": []
  },
  "kernelspec": {
   "display_name": "Python 3 (ipykernel)",
   "language": "python",
   "name": "python3"
  },
  "language_info": {
   "codemirror_mode": {
    "name": "ipython",
    "version": 3
   },
   "file_extension": ".py",
   "mimetype": "text/x-python",
   "name": "python",
   "nbconvert_exporter": "python",
   "pygments_lexer": "ipython3",
   "version": "3.8.10"
  }
 },
 "nbformat": 4,
 "nbformat_minor": 4
}
