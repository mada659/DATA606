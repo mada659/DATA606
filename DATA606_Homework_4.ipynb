{
 "cells": [
  {
   "cell_type": "markdown",
   "metadata": {
    "id": "ZEOKtuQB4YuL"
   },
   "source": [
    "## Homework 4\n",
    "DATA 606, Adam Claudy, UID 109347877 <br>\n",
    "<br>\n",
    "Each questions has a grade of 2 points"
   ]
  },
  {
   "cell_type": "markdown",
   "metadata": {
    "id": "xmF7PeFH1l4Q"
   },
   "source": [
    "### (1) \n",
    "A die D has four sides with the following probabilities :\n",
    "p(1) = p(2) = 1/8, p(3) = 1/4, p(4)= 1/2.\n",
    "What is the entropy of this distribution?\n",
    "\n",
    "\n",
    "(A) Calculate the entropy analytically usng the formula\n",
    "\n",
    "> = -( (1/8)log2(1/8) + (1/8)log2(1/8) + (1/4)log2(1/4) + (1/2)log2(1/2) ) <br>\n",
    "> = -( (2)(1/8)(-3) + (1/4)(-2) + (1/2)(-1) )<br>\n",
    "> = 7/4 = 1.75\n",
    "\n",
    "(B) Calculate the entropy using Python code"
   ]
  },
  {
   "cell_type": "code",
   "execution_count": 2,
   "metadata": {
    "id": "obWQGo7B0pmi"
   },
   "outputs": [
    {
     "data": {
      "text/plain": [
       "1.75"
      ]
     },
     "execution_count": 2,
     "metadata": {},
     "output_type": "execute_result"
    }
   ],
   "source": [
    "from scipy.stats import entropy\n",
    "\n",
    "# your code\n",
    "p = [1/8, 1/8, 1/4, 1/2]\n",
    "# Entropy\n",
    "H = entropy(p, base=2)\n",
    "H"
   ]
  },
  {
   "cell_type": "markdown",
   "metadata": {
    "id": "09xThlnY3TKs"
   },
   "source": [
    "### (2) \n",
    "Consider the die D of quesion (1):\n",
    "\n",
    "> (A) Which probability distribution of the four sides will maximize the entropy, i.e., find the values of P(1), P(2), P(3), and P(4)? \n",
    "\n",
    ">> Uniform Distribution\n",
    "\n",
    "> (B) What is the value of the maximum entropy?"
   ]
  },
  {
   "cell_type": "code",
   "execution_count": 15,
   "metadata": {
    "id": "qq2XzKMS3jEp"
   },
   "outputs": [
    {
     "data": {
      "text/plain": [
       "2.0"
      ]
     },
     "execution_count": 15,
     "metadata": {},
     "output_type": "execute_result"
    }
   ],
   "source": [
    "# p(1)=? , p(2)=?, p(3)=?, p(4)=?\n",
    "p = [1/4, 1/4, 1/4, 1/4]\n",
    "H = entropy(p, base=2)\n",
    "H"
   ]
  },
  {
   "cell_type": "markdown",
   "metadata": {
    "id": "r8LEvYQ57YXX"
   },
   "source": [
    "### (3) \n",
    "A coin C1 has the probability distribution p(T) = p(H) = 1/2\n",
    "Another coin C2 has the probability distribution p(T) = 3/4, p(H) = 1/4\n",
    "What is the relative entropy (Kullback–Leibler divergence ) from C2 to C1?\n",
    "What is the relative entropy (Kullback–Leibler divergence ) from C1 to C2?"
   ]
  },
  {
   "cell_type": "code",
   "execution_count": 5,
   "metadata": {},
   "outputs": [
    {
     "name": "stdout",
     "output_type": "stream",
     "text": [
      "Relative entropy from C1 to C2: 0.20751874963942185\n",
      "Relative entropy from C2 to C1: 0.18872187554086714\n"
     ]
    }
   ],
   "source": [
    "print(\"Relative entropy from C1 to C2: \" + str(entropy([1/2, 1/2], qk=[3/4, 1/4], base=2)))\n",
    "print(\"Relative entropy from C2 to C1: \" + str(entropy([3/4, 1/4], qk=[1/2, 1/2], base=2)))"
   ]
  },
  {
   "cell_type": "markdown",
   "metadata": {
    "id": "HJf09nu4glcz"
   },
   "source": [
    "### (4) \n",
    "Suppose we have a source with 5 symbols. The corresponding probabilities are (0.3,0.3,0.2,0.1,0.1).\n",
    "\n",
    "> (A) What is the best possible average bits per symbol if we want to compress the source?\n",
    "\n",
    "> (B) Give a Huffman coding for the source symbols and calculate the average bits/symbol?"
   ]
  },
  {
   "cell_type": "code",
   "execution_count": 11,
   "metadata": {},
   "outputs": [
    {
     "name": "stdout",
     "output_type": "stream",
     "text": [
      "Best theoretical average bits per symbol: 2.1709505944546685\n"
     ]
    }
   ],
   "source": [
    "from math import log2\n",
    "p=[0.3, 0.3, 0.2, 0.1, 0.1]\n",
    "H = -sum([p[i] * log2(p[i]) for i in range(len(p))])\n",
    "print(\"Best theoretical average bits per symbol: \" + str(H))"
   ]
  },
  {
   "cell_type": "code",
   "execution_count": 14,
   "metadata": {},
   "outputs": [
    {
     "name": "stdout",
     "output_type": "stream",
     "text": [
      "Best Huffman average bits per symbol: 2.3\n"
     ]
    }
   ],
   "source": [
    "Huff = 0.3*1+0.3*2+0.2*3+0.1*4*2\n",
    "print(\"Best Huffman average bits per symbol: \" + str(Huff))"
   ]
  }
 ],
 "metadata": {
  "colab": {
   "name": "DATA606_Homework4.ipynb",
   "provenance": []
  },
  "kernelspec": {
   "display_name": "Python 3 (ipykernel)",
   "language": "python",
   "name": "python3"
  },
  "language_info": {
   "codemirror_mode": {
    "name": "ipython",
    "version": 3
   },
   "file_extension": ".py",
   "mimetype": "text/x-python",
   "name": "python",
   "nbconvert_exporter": "python",
   "pygments_lexer": "ipython3",
   "version": "3.8.10"
  }
 },
 "nbformat": 4,
 "nbformat_minor": 4
}
